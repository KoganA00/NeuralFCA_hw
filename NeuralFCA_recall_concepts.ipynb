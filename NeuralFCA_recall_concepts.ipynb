{
  "cells": [
    {
      "cell_type": "raw",
      "metadata": {
        "id": "DvQoEG_bfjrT"
      },
      "source": []
    },
    {
      "cell_type": "code",
      "execution_count": null,
      "metadata": {
        "id": "7VVl_UKKfyVC"
      },
      "outputs": [],
      "source": [
        "!pip install fcapy==0.1.4.1\n",
        "!pip install frozendict\n",
        "!pip install ipynb\n",
        "!pip install sparselinear\n",
        "!pip install bitsets\n",
        "!pip install bitarray\n",
        "\n",
        "!pip install torch-scatter -f https://data.pyg.org/whl/torch-1.13.0+cu116.html\n",
        "!pip install torch-sparse -f https://data.pyg.org/whl/torch-1.13.0+cu116.html\n",
        "!pip install torch-cluster -f https://data.pyg.org/whl/torch-1.13.0+cu116.html\n",
        "!pip install git+https://github.com/pyg-team/pytorch_geometric.git"
      ]
    },
    {
      "cell_type": "code",
      "source": [
        "#!pip install bitarray\n",
        "#!pip install bitsets"
      ],
      "metadata": {
        "id": "2dzdmdKGziSx"
      },
      "execution_count": null,
      "outputs": []
    },
    {
      "cell_type": "code",
      "source": [],
      "metadata": {
        "id": "8N4SIRFAwACG"
      },
      "execution_count": null,
      "outputs": []
    },
    {
      "cell_type": "code",
      "execution_count": 4,
      "metadata": {
        "id": "c-ljCMXxfjrW"
      },
      "outputs": [],
      "source": [
        "import numpy as np\n",
        "import pandas as pd\n",
        "from sklearn.model_selection import train_test_split\n",
        "from sklearn.metrics import f1_score, recall_score, accuracy_score, classification_report\n",
        "\n",
        "from fcapy.context import FormalContext\n",
        "from fcapy.lattice import ConceptLattice\n",
        "\n",
        "from fcapy.visualizer import LineVizNx\n",
        "import matplotlib.pyplot as plt\n",
        "\n",
        "plt.rcParams['figure.facecolor'] = (1,1,1,1)\n",
        "\n",
        "import neural_lib as nl"
      ]
    },
    {
      "cell_type": "markdown",
      "metadata": {
        "id": "JXfExtmTfjrZ"
      },
      "source": [
        "# Pipeline"
      ]
    },
    {
      "cell_type": "code",
      "source": [
        "df = pd.read_csv('/content/diabetes.csv')\n",
        "print(df.shape)\n",
        "df.sample()"
      ],
      "metadata": {
        "colab": {
          "base_uri": "https://localhost:8080/",
          "height": 99
        },
        "id": "4_TMy5tww26Z",
        "outputId": "2d5c30e0-fa0f-47f3-95ff-fcaecfca67dd"
      },
      "execution_count": 5,
      "outputs": [
        {
          "output_type": "stream",
          "name": "stdout",
          "text": [
            "(768, 9)\n"
          ]
        },
        {
          "output_type": "execute_result",
          "data": {
            "text/plain": [
              "     Pregnancies  Glucose  BloodPressure  SkinThickness  Insulin   BMI  \\\n",
              "421            2       94             68             18       76  26.0   \n",
              "\n",
              "     DiabetesPedigreeFunction  Age  Outcome  \n",
              "421                     0.561   21        0  "
            ],
            "text/html": [
              "\n",
              "  <div id=\"df-409bbbc9-be9b-4bc8-a28c-89ce703ab45b\">\n",
              "    <div class=\"colab-df-container\">\n",
              "      <div>\n",
              "<style scoped>\n",
              "    .dataframe tbody tr th:only-of-type {\n",
              "        vertical-align: middle;\n",
              "    }\n",
              "\n",
              "    .dataframe tbody tr th {\n",
              "        vertical-align: top;\n",
              "    }\n",
              "\n",
              "    .dataframe thead th {\n",
              "        text-align: right;\n",
              "    }\n",
              "</style>\n",
              "<table border=\"1\" class=\"dataframe\">\n",
              "  <thead>\n",
              "    <tr style=\"text-align: right;\">\n",
              "      <th></th>\n",
              "      <th>Pregnancies</th>\n",
              "      <th>Glucose</th>\n",
              "      <th>BloodPressure</th>\n",
              "      <th>SkinThickness</th>\n",
              "      <th>Insulin</th>\n",
              "      <th>BMI</th>\n",
              "      <th>DiabetesPedigreeFunction</th>\n",
              "      <th>Age</th>\n",
              "      <th>Outcome</th>\n",
              "    </tr>\n",
              "  </thead>\n",
              "  <tbody>\n",
              "    <tr>\n",
              "      <th>421</th>\n",
              "      <td>2</td>\n",
              "      <td>94</td>\n",
              "      <td>68</td>\n",
              "      <td>18</td>\n",
              "      <td>76</td>\n",
              "      <td>26.0</td>\n",
              "      <td>0.561</td>\n",
              "      <td>21</td>\n",
              "      <td>0</td>\n",
              "    </tr>\n",
              "  </tbody>\n",
              "</table>\n",
              "</div>\n",
              "      <button class=\"colab-df-convert\" onclick=\"convertToInteractive('df-409bbbc9-be9b-4bc8-a28c-89ce703ab45b')\"\n",
              "              title=\"Convert this dataframe to an interactive table.\"\n",
              "              style=\"display:none;\">\n",
              "        \n",
              "  <svg xmlns=\"http://www.w3.org/2000/svg\" height=\"24px\"viewBox=\"0 0 24 24\"\n",
              "       width=\"24px\">\n",
              "    <path d=\"M0 0h24v24H0V0z\" fill=\"none\"/>\n",
              "    <path d=\"M18.56 5.44l.94 2.06.94-2.06 2.06-.94-2.06-.94-.94-2.06-.94 2.06-2.06.94zm-11 1L8.5 8.5l.94-2.06 2.06-.94-2.06-.94L8.5 2.5l-.94 2.06-2.06.94zm10 10l.94 2.06.94-2.06 2.06-.94-2.06-.94-.94-2.06-.94 2.06-2.06.94z\"/><path d=\"M17.41 7.96l-1.37-1.37c-.4-.4-.92-.59-1.43-.59-.52 0-1.04.2-1.43.59L10.3 9.45l-7.72 7.72c-.78.78-.78 2.05 0 2.83L4 21.41c.39.39.9.59 1.41.59.51 0 1.02-.2 1.41-.59l7.78-7.78 2.81-2.81c.8-.78.8-2.07 0-2.86zM5.41 20L4 18.59l7.72-7.72 1.47 1.35L5.41 20z\"/>\n",
              "  </svg>\n",
              "      </button>\n",
              "      \n",
              "  <style>\n",
              "    .colab-df-container {\n",
              "      display:flex;\n",
              "      flex-wrap:wrap;\n",
              "      gap: 12px;\n",
              "    }\n",
              "\n",
              "    .colab-df-convert {\n",
              "      background-color: #E8F0FE;\n",
              "      border: none;\n",
              "      border-radius: 50%;\n",
              "      cursor: pointer;\n",
              "      display: none;\n",
              "      fill: #1967D2;\n",
              "      height: 32px;\n",
              "      padding: 0 0 0 0;\n",
              "      width: 32px;\n",
              "    }\n",
              "\n",
              "    .colab-df-convert:hover {\n",
              "      background-color: #E2EBFA;\n",
              "      box-shadow: 0px 1px 2px rgba(60, 64, 67, 0.3), 0px 1px 3px 1px rgba(60, 64, 67, 0.15);\n",
              "      fill: #174EA6;\n",
              "    }\n",
              "\n",
              "    [theme=dark] .colab-df-convert {\n",
              "      background-color: #3B4455;\n",
              "      fill: #D2E3FC;\n",
              "    }\n",
              "\n",
              "    [theme=dark] .colab-df-convert:hover {\n",
              "      background-color: #434B5C;\n",
              "      box-shadow: 0px 1px 3px 1px rgba(0, 0, 0, 0.15);\n",
              "      filter: drop-shadow(0px 1px 2px rgba(0, 0, 0, 0.3));\n",
              "      fill: #FFFFFF;\n",
              "    }\n",
              "  </style>\n",
              "\n",
              "      <script>\n",
              "        const buttonEl =\n",
              "          document.querySelector('#df-409bbbc9-be9b-4bc8-a28c-89ce703ab45b button.colab-df-convert');\n",
              "        buttonEl.style.display =\n",
              "          google.colab.kernel.accessAllowed ? 'block' : 'none';\n",
              "\n",
              "        async function convertToInteractive(key) {\n",
              "          const element = document.querySelector('#df-409bbbc9-be9b-4bc8-a28c-89ce703ab45b');\n",
              "          const dataTable =\n",
              "            await google.colab.kernel.invokeFunction('convertToInteractive',\n",
              "                                                     [key], {});\n",
              "          if (!dataTable) return;\n",
              "\n",
              "          const docLinkHtml = 'Like what you see? Visit the ' +\n",
              "            '<a target=\"_blank\" href=https://colab.research.google.com/notebooks/data_table.ipynb>data table notebook</a>'\n",
              "            + ' to learn more about interactive tables.';\n",
              "          element.innerHTML = '';\n",
              "          dataTable['output_type'] = 'display_data';\n",
              "          await google.colab.output.renderOutput(dataTable, element);\n",
              "          const docLink = document.createElement('div');\n",
              "          docLink.innerHTML = docLinkHtml;\n",
              "          element.appendChild(docLink);\n",
              "        }\n",
              "      </script>\n",
              "    </div>\n",
              "  </div>\n",
              "  "
            ]
          },
          "metadata": {},
          "execution_count": 5
        }
      ]
    },
    {
      "cell_type": "markdown",
      "metadata": {
        "id": "TEKqUkbKfjra"
      },
      "source": [
        "# Step 0. Binarize the data"
      ]
    },
    {
      "cell_type": "code",
      "source": [
        "df_bin = pd.DataFrame()\n",
        "#1\n",
        "step = 8\n",
        "col='Glucose'\n",
        "start, finish = 40, 200\n",
        "df_bin[col[0]+'=0'] = df[col] == 0\n",
        "for i in range(start, finish, step):\n",
        "  df_bin['G('+str(i) + ';' + str(i+step) + ']'] = (df[col] >i ) & (df[col] <= (i+step))\n",
        "#2\n",
        "step = 5\n",
        "col = 'BMI'\n",
        "start, finish = 18, 67\n",
        "df_bin[col[0]+'0'] = df[col] == 0\n",
        "for i in range(start, finish, step):\n",
        "  df_bin[col[0]+'('+str(i) + ';' + str(i+step) + ']'] = (df[col] >i ) & (df[col] <= (i+step))\n",
        "\n",
        "\n",
        "df_bin['Outcome'] = df['Outcome'] == 1\n"
      ],
      "metadata": {
        "id": "OGTjZjfWxGpd"
      },
      "execution_count": 6,
      "outputs": []
    },
    {
      "cell_type": "code",
      "source": [
        "df_bin.shape"
      ],
      "metadata": {
        "colab": {
          "base_uri": "https://localhost:8080/"
        },
        "id": "Ui6aEs3E-Eoj",
        "outputId": "a38a8c7b-2715-473b-acd6-1594179c0362"
      },
      "execution_count": 7,
      "outputs": [
        {
          "output_type": "execute_result",
          "data": {
            "text/plain": [
              "(768, 33)"
            ]
          },
          "metadata": {},
          "execution_count": 7
        }
      ]
    },
    {
      "cell_type": "code",
      "source": [
        "\n",
        "df_bin['sample_id'] = np.arange(0, df_bin.shape[0], 1).astype(str)\n",
        "df_bin['id'] = df_bin['sample_id'].apply(lambda x: 'h' + x)\n",
        "df_bin.drop(columns=['sample_id'], inplace=True)\n",
        "df_bin=df_bin.set_index('id')\n",
        "df_bin.sample()"
      ],
      "metadata": {
        "colab": {
          "base_uri": "https://localhost:8080/",
          "height": 205
        },
        "id": "YAGD8eiTAf-S",
        "outputId": "81f806f4-1ebd-4cfa-d517-407f3aa1947d"
      },
      "execution_count": 8,
      "outputs": [
        {
          "output_type": "execute_result",
          "data": {
            "text/plain": [
              "        G=0  G(40;48]  G(48;56]  G(56;64]  G(64;72]  G(72;80]  G(80;88]  \\\n",
              "id                                                                        \n",
              "h410  False     False     False     False     False     False     False   \n",
              "\n",
              "      G(88;96]  G(96;104]  G(104;112]  ...  B(23;28]  B(28;33]  B(33;38]  \\\n",
              "id                                     ...                                 \n",
              "h410     False       True       False  ...     False     False      True   \n",
              "\n",
              "      B(38;43]  B(43;48]  B(48;53]  B(53;58]  B(58;63]  B(63;68]  Outcome  \n",
              "id                                                                         \n",
              "h410     False     False     False     False     False     False    False  \n",
              "\n",
              "[1 rows x 33 columns]"
            ],
            "text/html": [
              "\n",
              "  <div id=\"df-216c8491-411e-4b2e-ba9a-3ce5f0f0ecc1\">\n",
              "    <div class=\"colab-df-container\">\n",
              "      <div>\n",
              "<style scoped>\n",
              "    .dataframe tbody tr th:only-of-type {\n",
              "        vertical-align: middle;\n",
              "    }\n",
              "\n",
              "    .dataframe tbody tr th {\n",
              "        vertical-align: top;\n",
              "    }\n",
              "\n",
              "    .dataframe thead th {\n",
              "        text-align: right;\n",
              "    }\n",
              "</style>\n",
              "<table border=\"1\" class=\"dataframe\">\n",
              "  <thead>\n",
              "    <tr style=\"text-align: right;\">\n",
              "      <th></th>\n",
              "      <th>G=0</th>\n",
              "      <th>G(40;48]</th>\n",
              "      <th>G(48;56]</th>\n",
              "      <th>G(56;64]</th>\n",
              "      <th>G(64;72]</th>\n",
              "      <th>G(72;80]</th>\n",
              "      <th>G(80;88]</th>\n",
              "      <th>G(88;96]</th>\n",
              "      <th>G(96;104]</th>\n",
              "      <th>G(104;112]</th>\n",
              "      <th>...</th>\n",
              "      <th>B(23;28]</th>\n",
              "      <th>B(28;33]</th>\n",
              "      <th>B(33;38]</th>\n",
              "      <th>B(38;43]</th>\n",
              "      <th>B(43;48]</th>\n",
              "      <th>B(48;53]</th>\n",
              "      <th>B(53;58]</th>\n",
              "      <th>B(58;63]</th>\n",
              "      <th>B(63;68]</th>\n",
              "      <th>Outcome</th>\n",
              "    </tr>\n",
              "    <tr>\n",
              "      <th>id</th>\n",
              "      <th></th>\n",
              "      <th></th>\n",
              "      <th></th>\n",
              "      <th></th>\n",
              "      <th></th>\n",
              "      <th></th>\n",
              "      <th></th>\n",
              "      <th></th>\n",
              "      <th></th>\n",
              "      <th></th>\n",
              "      <th></th>\n",
              "      <th></th>\n",
              "      <th></th>\n",
              "      <th></th>\n",
              "      <th></th>\n",
              "      <th></th>\n",
              "      <th></th>\n",
              "      <th></th>\n",
              "      <th></th>\n",
              "      <th></th>\n",
              "      <th></th>\n",
              "    </tr>\n",
              "  </thead>\n",
              "  <tbody>\n",
              "    <tr>\n",
              "      <th>h410</th>\n",
              "      <td>False</td>\n",
              "      <td>False</td>\n",
              "      <td>False</td>\n",
              "      <td>False</td>\n",
              "      <td>False</td>\n",
              "      <td>False</td>\n",
              "      <td>False</td>\n",
              "      <td>False</td>\n",
              "      <td>True</td>\n",
              "      <td>False</td>\n",
              "      <td>...</td>\n",
              "      <td>False</td>\n",
              "      <td>False</td>\n",
              "      <td>True</td>\n",
              "      <td>False</td>\n",
              "      <td>False</td>\n",
              "      <td>False</td>\n",
              "      <td>False</td>\n",
              "      <td>False</td>\n",
              "      <td>False</td>\n",
              "      <td>False</td>\n",
              "    </tr>\n",
              "  </tbody>\n",
              "</table>\n",
              "<p>1 rows × 33 columns</p>\n",
              "</div>\n",
              "      <button class=\"colab-df-convert\" onclick=\"convertToInteractive('df-216c8491-411e-4b2e-ba9a-3ce5f0f0ecc1')\"\n",
              "              title=\"Convert this dataframe to an interactive table.\"\n",
              "              style=\"display:none;\">\n",
              "        \n",
              "  <svg xmlns=\"http://www.w3.org/2000/svg\" height=\"24px\"viewBox=\"0 0 24 24\"\n",
              "       width=\"24px\">\n",
              "    <path d=\"M0 0h24v24H0V0z\" fill=\"none\"/>\n",
              "    <path d=\"M18.56 5.44l.94 2.06.94-2.06 2.06-.94-2.06-.94-.94-2.06-.94 2.06-2.06.94zm-11 1L8.5 8.5l.94-2.06 2.06-.94-2.06-.94L8.5 2.5l-.94 2.06-2.06.94zm10 10l.94 2.06.94-2.06 2.06-.94-2.06-.94-.94-2.06-.94 2.06-2.06.94z\"/><path d=\"M17.41 7.96l-1.37-1.37c-.4-.4-.92-.59-1.43-.59-.52 0-1.04.2-1.43.59L10.3 9.45l-7.72 7.72c-.78.78-.78 2.05 0 2.83L4 21.41c.39.39.9.59 1.41.59.51 0 1.02-.2 1.41-.59l7.78-7.78 2.81-2.81c.8-.78.8-2.07 0-2.86zM5.41 20L4 18.59l7.72-7.72 1.47 1.35L5.41 20z\"/>\n",
              "  </svg>\n",
              "      </button>\n",
              "      \n",
              "  <style>\n",
              "    .colab-df-container {\n",
              "      display:flex;\n",
              "      flex-wrap:wrap;\n",
              "      gap: 12px;\n",
              "    }\n",
              "\n",
              "    .colab-df-convert {\n",
              "      background-color: #E8F0FE;\n",
              "      border: none;\n",
              "      border-radius: 50%;\n",
              "      cursor: pointer;\n",
              "      display: none;\n",
              "      fill: #1967D2;\n",
              "      height: 32px;\n",
              "      padding: 0 0 0 0;\n",
              "      width: 32px;\n",
              "    }\n",
              "\n",
              "    .colab-df-convert:hover {\n",
              "      background-color: #E2EBFA;\n",
              "      box-shadow: 0px 1px 2px rgba(60, 64, 67, 0.3), 0px 1px 3px 1px rgba(60, 64, 67, 0.15);\n",
              "      fill: #174EA6;\n",
              "    }\n",
              "\n",
              "    [theme=dark] .colab-df-convert {\n",
              "      background-color: #3B4455;\n",
              "      fill: #D2E3FC;\n",
              "    }\n",
              "\n",
              "    [theme=dark] .colab-df-convert:hover {\n",
              "      background-color: #434B5C;\n",
              "      box-shadow: 0px 1px 3px 1px rgba(0, 0, 0, 0.15);\n",
              "      filter: drop-shadow(0px 1px 2px rgba(0, 0, 0, 0.3));\n",
              "      fill: #FFFFFF;\n",
              "    }\n",
              "  </style>\n",
              "\n",
              "      <script>\n",
              "        const buttonEl =\n",
              "          document.querySelector('#df-216c8491-411e-4b2e-ba9a-3ce5f0f0ecc1 button.colab-df-convert');\n",
              "        buttonEl.style.display =\n",
              "          google.colab.kernel.accessAllowed ? 'block' : 'none';\n",
              "\n",
              "        async function convertToInteractive(key) {\n",
              "          const element = document.querySelector('#df-216c8491-411e-4b2e-ba9a-3ce5f0f0ecc1');\n",
              "          const dataTable =\n",
              "            await google.colab.kernel.invokeFunction('convertToInteractive',\n",
              "                                                     [key], {});\n",
              "          if (!dataTable) return;\n",
              "\n",
              "          const docLinkHtml = 'Like what you see? Visit the ' +\n",
              "            '<a target=\"_blank\" href=https://colab.research.google.com/notebooks/data_table.ipynb>data table notebook</a>'\n",
              "            + ' to learn more about interactive tables.';\n",
              "          element.innerHTML = '';\n",
              "          dataTable['output_type'] = 'display_data';\n",
              "          await google.colab.output.renderOutput(dataTable, element);\n",
              "          const docLink = document.createElement('div');\n",
              "          docLink.innerHTML = docLinkHtml;\n",
              "          element.appendChild(docLink);\n",
              "        }\n",
              "      </script>\n",
              "    </div>\n",
              "  </div>\n",
              "  "
            ]
          },
          "metadata": {},
          "execution_count": 8
        }
      ]
    },
    {
      "cell_type": "markdown",
      "metadata": {
        "id": "DexllfA0fjrb"
      },
      "source": [
        "Split the data to train and test"
      ]
    },
    {
      "cell_type": "code",
      "source": [
        "y_feat = 'Outcome'\n",
        "df_train, df_test = train_test_split(df_bin, train_size=0.7, random_state=0)\n",
        "\n",
        "X_train, y_train = df_train.drop(y_feat, axis=1), df_train[y_feat]\n",
        "X_test, y_test = df_test.drop(y_feat, axis=1), df_test[y_feat]\n",
        "X_train.sample()\n",
        "\n"
      ],
      "metadata": {
        "id": "rknfFUu3LDgE",
        "colab": {
          "base_uri": "https://localhost:8080/",
          "height": 205
        },
        "outputId": "42a897d5-e263-4328-9e39-d1c192f1489d"
      },
      "execution_count": 9,
      "outputs": [
        {
          "output_type": "execute_result",
          "data": {
            "text/plain": [
              "        G=0  G(40;48]  G(48;56]  G(56;64]  G(64;72]  G(72;80]  G(80;88]  \\\n",
              "id                                                                        \n",
              "h102  False     False     False     False     False     False     False   \n",
              "\n",
              "      G(88;96]  G(96;104]  G(104;112]  ...  B(18;23]  B(23;28]  B(28;33]  \\\n",
              "id                                     ...                                 \n",
              "h102     False      False       False  ...      True     False     False   \n",
              "\n",
              "      B(33;38]  B(38;43]  B(43;48]  B(48;53]  B(53;58]  B(58;63]  B(63;68]  \n",
              "id                                                                          \n",
              "h102     False     False     False     False     False     False     False  \n",
              "\n",
              "[1 rows x 32 columns]"
            ],
            "text/html": [
              "\n",
              "  <div id=\"df-9f0c42a3-f5cb-4d3b-8aa6-4a576bbbb45f\">\n",
              "    <div class=\"colab-df-container\">\n",
              "      <div>\n",
              "<style scoped>\n",
              "    .dataframe tbody tr th:only-of-type {\n",
              "        vertical-align: middle;\n",
              "    }\n",
              "\n",
              "    .dataframe tbody tr th {\n",
              "        vertical-align: top;\n",
              "    }\n",
              "\n",
              "    .dataframe thead th {\n",
              "        text-align: right;\n",
              "    }\n",
              "</style>\n",
              "<table border=\"1\" class=\"dataframe\">\n",
              "  <thead>\n",
              "    <tr style=\"text-align: right;\">\n",
              "      <th></th>\n",
              "      <th>G=0</th>\n",
              "      <th>G(40;48]</th>\n",
              "      <th>G(48;56]</th>\n",
              "      <th>G(56;64]</th>\n",
              "      <th>G(64;72]</th>\n",
              "      <th>G(72;80]</th>\n",
              "      <th>G(80;88]</th>\n",
              "      <th>G(88;96]</th>\n",
              "      <th>G(96;104]</th>\n",
              "      <th>G(104;112]</th>\n",
              "      <th>...</th>\n",
              "      <th>B(18;23]</th>\n",
              "      <th>B(23;28]</th>\n",
              "      <th>B(28;33]</th>\n",
              "      <th>B(33;38]</th>\n",
              "      <th>B(38;43]</th>\n",
              "      <th>B(43;48]</th>\n",
              "      <th>B(48;53]</th>\n",
              "      <th>B(53;58]</th>\n",
              "      <th>B(58;63]</th>\n",
              "      <th>B(63;68]</th>\n",
              "    </tr>\n",
              "    <tr>\n",
              "      <th>id</th>\n",
              "      <th></th>\n",
              "      <th></th>\n",
              "      <th></th>\n",
              "      <th></th>\n",
              "      <th></th>\n",
              "      <th></th>\n",
              "      <th></th>\n",
              "      <th></th>\n",
              "      <th></th>\n",
              "      <th></th>\n",
              "      <th></th>\n",
              "      <th></th>\n",
              "      <th></th>\n",
              "      <th></th>\n",
              "      <th></th>\n",
              "      <th></th>\n",
              "      <th></th>\n",
              "      <th></th>\n",
              "      <th></th>\n",
              "      <th></th>\n",
              "      <th></th>\n",
              "    </tr>\n",
              "  </thead>\n",
              "  <tbody>\n",
              "    <tr>\n",
              "      <th>h102</th>\n",
              "      <td>False</td>\n",
              "      <td>False</td>\n",
              "      <td>False</td>\n",
              "      <td>False</td>\n",
              "      <td>False</td>\n",
              "      <td>False</td>\n",
              "      <td>False</td>\n",
              "      <td>False</td>\n",
              "      <td>False</td>\n",
              "      <td>False</td>\n",
              "      <td>...</td>\n",
              "      <td>True</td>\n",
              "      <td>False</td>\n",
              "      <td>False</td>\n",
              "      <td>False</td>\n",
              "      <td>False</td>\n",
              "      <td>False</td>\n",
              "      <td>False</td>\n",
              "      <td>False</td>\n",
              "      <td>False</td>\n",
              "      <td>False</td>\n",
              "    </tr>\n",
              "  </tbody>\n",
              "</table>\n",
              "<p>1 rows × 32 columns</p>\n",
              "</div>\n",
              "      <button class=\"colab-df-convert\" onclick=\"convertToInteractive('df-9f0c42a3-f5cb-4d3b-8aa6-4a576bbbb45f')\"\n",
              "              title=\"Convert this dataframe to an interactive table.\"\n",
              "              style=\"display:none;\">\n",
              "        \n",
              "  <svg xmlns=\"http://www.w3.org/2000/svg\" height=\"24px\"viewBox=\"0 0 24 24\"\n",
              "       width=\"24px\">\n",
              "    <path d=\"M0 0h24v24H0V0z\" fill=\"none\"/>\n",
              "    <path d=\"M18.56 5.44l.94 2.06.94-2.06 2.06-.94-2.06-.94-.94-2.06-.94 2.06-2.06.94zm-11 1L8.5 8.5l.94-2.06 2.06-.94-2.06-.94L8.5 2.5l-.94 2.06-2.06.94zm10 10l.94 2.06.94-2.06 2.06-.94-2.06-.94-.94-2.06-.94 2.06-2.06.94z\"/><path d=\"M17.41 7.96l-1.37-1.37c-.4-.4-.92-.59-1.43-.59-.52 0-1.04.2-1.43.59L10.3 9.45l-7.72 7.72c-.78.78-.78 2.05 0 2.83L4 21.41c.39.39.9.59 1.41.59.51 0 1.02-.2 1.41-.59l7.78-7.78 2.81-2.81c.8-.78.8-2.07 0-2.86zM5.41 20L4 18.59l7.72-7.72 1.47 1.35L5.41 20z\"/>\n",
              "  </svg>\n",
              "      </button>\n",
              "      \n",
              "  <style>\n",
              "    .colab-df-container {\n",
              "      display:flex;\n",
              "      flex-wrap:wrap;\n",
              "      gap: 12px;\n",
              "    }\n",
              "\n",
              "    .colab-df-convert {\n",
              "      background-color: #E8F0FE;\n",
              "      border: none;\n",
              "      border-radius: 50%;\n",
              "      cursor: pointer;\n",
              "      display: none;\n",
              "      fill: #1967D2;\n",
              "      height: 32px;\n",
              "      padding: 0 0 0 0;\n",
              "      width: 32px;\n",
              "    }\n",
              "\n",
              "    .colab-df-convert:hover {\n",
              "      background-color: #E2EBFA;\n",
              "      box-shadow: 0px 1px 2px rgba(60, 64, 67, 0.3), 0px 1px 3px 1px rgba(60, 64, 67, 0.15);\n",
              "      fill: #174EA6;\n",
              "    }\n",
              "\n",
              "    [theme=dark] .colab-df-convert {\n",
              "      background-color: #3B4455;\n",
              "      fill: #D2E3FC;\n",
              "    }\n",
              "\n",
              "    [theme=dark] .colab-df-convert:hover {\n",
              "      background-color: #434B5C;\n",
              "      box-shadow: 0px 1px 3px 1px rgba(0, 0, 0, 0.15);\n",
              "      filter: drop-shadow(0px 1px 2px rgba(0, 0, 0, 0.3));\n",
              "      fill: #FFFFFF;\n",
              "    }\n",
              "  </style>\n",
              "\n",
              "      <script>\n",
              "        const buttonEl =\n",
              "          document.querySelector('#df-9f0c42a3-f5cb-4d3b-8aa6-4a576bbbb45f button.colab-df-convert');\n",
              "        buttonEl.style.display =\n",
              "          google.colab.kernel.accessAllowed ? 'block' : 'none';\n",
              "\n",
              "        async function convertToInteractive(key) {\n",
              "          const element = document.querySelector('#df-9f0c42a3-f5cb-4d3b-8aa6-4a576bbbb45f');\n",
              "          const dataTable =\n",
              "            await google.colab.kernel.invokeFunction('convertToInteractive',\n",
              "                                                     [key], {});\n",
              "          if (!dataTable) return;\n",
              "\n",
              "          const docLinkHtml = 'Like what you see? Visit the ' +\n",
              "            '<a target=\"_blank\" href=https://colab.research.google.com/notebooks/data_table.ipynb>data table notebook</a>'\n",
              "            + ' to learn more about interactive tables.';\n",
              "          element.innerHTML = '';\n",
              "          dataTable['output_type'] = 'display_data';\n",
              "          await google.colab.output.renderOutput(dataTable, element);\n",
              "          const docLink = document.createElement('div');\n",
              "          docLink.innerHTML = docLinkHtml;\n",
              "          element.appendChild(docLink);\n",
              "        }\n",
              "      </script>\n",
              "    </div>\n",
              "  </div>\n",
              "  "
            ]
          },
          "metadata": {},
          "execution_count": 9
        }
      ]
    },
    {
      "cell_type": "markdown",
      "metadata": {
        "id": "IPBudGSrfjrc"
      },
      "source": [
        "## Step 1. Build Monotone Concept Lattice"
      ]
    },
    {
      "cell_type": "markdown",
      "metadata": {
        "id": "1s6zFBgifjrc"
      },
      "source": [
        "Put binarized data in FormalContext and compute monotone ConceptLattice"
      ]
    },
    {
      "cell_type": "code",
      "execution_count": 10,
      "metadata": {
        "id": "l3fgRDEwfjrc",
        "outputId": "59ff0ab5-2ec2-471a-e32d-0db7afd740df",
        "colab": {
          "base_uri": "https://localhost:8080/"
        }
      },
      "outputs": [
        {
          "output_type": "stream",
          "name": "stdout",
          "text": [
            "CPU times: user 6.54 ms, sys: 0 ns, total: 6.54 ms\n",
            "Wall time: 8.36 ms\n"
          ]
        },
        {
          "output_type": "execute_result",
          "data": {
            "text/plain": [
              "FormalContext (537 objects, 32 attributes, 1074 connections)\n",
              "    |G=0|G(40;48]|G(48;56]|G(56;64]|G(64;72]|...|B(43;48]|B(48;53]|B(53;58]|B(58;63]|B(63;68]|\n",
              "h580|   |        |        |        |        |...|        |        |        |        |        |\n",
              "h418|   |        |        |        |        |...|        |        |        |        |        |\n",
              "h764|   |        |        |        |        |...|        |        |        |        |        |\n",
              "h363|   |        |        |        |        |...|        |        |        |        |        |\n",
              "h757|   |        |        |        |        |...|        |        |        |        |        |\n",
              "h636|   |        |        |        |        |...|        |        |        |        |        |\n",
              "h155|   |        |        |        |        |...|        |       X|        |        |        |\n",
              "h390|   |        |        |        |        |...|        |        |        |        |        |\n",
              "h761|   |        |        |        |        |...|       X|        |        |        |        |\n",
              "h358|   |        |        |        |        |...|        |        |        |        |        |\n",
              "..............................................................................................\n",
              "..............................................................................................\n",
              "h277|   |        |        |        |        |...|        |        |        |        |        |\n",
              "h723|   |        |        |        |        |...|        |        |        |        |        |\n",
              "h9  |   |        |        |        |        |...|        |        |        |        |        |\n",
              "h359|   |        |        |        |        |...|        |        |        |        |        |\n",
              "h707|   |        |        |        |        |...|        |        |        |        |        |\n",
              "h763|   |        |        |        |        |...|        |        |        |        |        |\n",
              "h192|   |        |        |        |        |...|        |        |        |        |        |\n",
              "h629|   |        |        |        |        |...|        |        |        |        |        |\n",
              "h559|   |        |        |        |        |...|        |        |        |        |        |\n",
              "h684|   |        |        |        |        |...|        |        |        |        |        |"
            ]
          },
          "metadata": {},
          "execution_count": 10
        }
      ],
      "source": [
        "%%time \n",
        "K_train = FormalContext.from_pandas(X_train)\n",
        "K_train"
      ]
    },
    {
      "cell_type": "code",
      "source": [
        "%%time \n",
        "\n",
        "L = ConceptLattice.from_context(K_train,algo='Sofia', is_monotone=True)\n",
        "len(L)"
      ],
      "metadata": {
        "colab": {
          "base_uri": "https://localhost:8080/"
        },
        "id": "CM7b7ky__aBe",
        "outputId": "17f8dad3-175b-4750-bb3e-0870c3e0c460"
      },
      "execution_count": 11,
      "outputs": [
        {
          "output_type": "stream",
          "name": "stdout",
          "text": [
            "CPU times: user 1min 41s, sys: 713 ms, total: 1min 42s\n",
            "Wall time: 1min 46s\n"
          ]
        },
        {
          "output_type": "execute_result",
          "data": {
            "text/plain": [
              "100"
            ]
          },
          "metadata": {},
          "execution_count": 11
        }
      ]
    },
    {
      "cell_type": "markdown",
      "metadata": {
        "id": "s_zBXHBwfjrd"
      },
      "source": [
        "Compute F1 score for each formal concept  (assuming that an object is predicted True if it is in the extent of the concept)"
      ]
    },
    {
      "cell_type": "code",
      "execution_count": 108,
      "metadata": {
        "id": "VbzpKYW1fjrd"
      },
      "outputs": [],
      "source": [
        "for c in L:\n",
        "    y_preds = np.zeros(K_train.n_objects)\n",
        "    y_preds[list(c.extent_i)] = 1\n",
        "    c.measures['f1_score'] = f1_score(y_train, y_preds)\n",
        "    c.measures['recall_score'] = recall_score(y_train, y_preds)"
      ]
    },
    {
      "cell_type": "markdown",
      "metadata": {
        "id": "E1NIDC-zfjre"
      },
      "source": [
        "Select indices of the best concepts from the lattice"
      ]
    },
    {
      "cell_type": "code",
      "source": [
        "sorted(L.measures['recall_score'])[-1]"
      ],
      "metadata": {
        "colab": {
          "base_uri": "https://localhost:8080/"
        },
        "id": "8_Dzc7hnYqXa",
        "outputId": "e8e9e1a5-4257-44c1-d292-f65dfc8f06f1"
      },
      "execution_count": 110,
      "outputs": [
        {
          "output_type": "execute_result",
          "data": {
            "text/plain": [
              "1.0"
            ]
          },
          "metadata": {},
          "execution_count": 110
        }
      ]
    },
    {
      "cell_type": "code",
      "execution_count": 83,
      "metadata": {
        "id": "Aw1QohZUfjre"
      },
      "outputs": [],
      "source": [
        "n_concepts = 1\n",
        "best_concepts = list(L.measures['recall_score'].argsort()[::-1][:n_concepts])\n",
        "\n",
        "assert len({g_i for c in L[best_concepts] for g_i in c.extent_i})==K_train.n_objects, \"Selected concepts do not cover all train objects\""
      ]
    },
    {
      "cell_type": "markdown",
      "metadata": {
        "id": "mn8HId16fjre"
      },
      "source": [
        "Construct neural network based on concept lattice"
      ]
    },
    {
      "cell_type": "code",
      "execution_count": 84,
      "metadata": {
        "id": "VA62zv8Dfjre"
      },
      "outputs": [],
      "source": [
        "cn = nl.ConceptNetwork.from_lattice(L, best_concepts, sorted(set(y_train)))"
      ]
    },
    {
      "cell_type": "markdown",
      "metadata": {
        "id": "vl51CH3dfjre"
      },
      "source": [
        "Setup visuzalier for the architecture"
      ]
    },
    {
      "cell_type": "code",
      "execution_count": 85,
      "metadata": {
        "id": "KhK1G_AWfjrf"
      },
      "outputs": [],
      "source": [
        "vis = LineVizNx(node_label_font_size=14, node_label_func=lambda el_i, P: nl.neuron_label_func(el_i, P, set(cn.attributes))+'\\n\\n')"
      ]
    },
    {
      "cell_type": "code",
      "source": [
        "set(X_train.columns)"
      ],
      "metadata": {
        "colab": {
          "base_uri": "https://localhost:8080/"
        },
        "id": "EkoY7bbT0DDM",
        "outputId": "4d9a3760-7b8d-4d98-bf1d-701209c7f903"
      },
      "execution_count": 86,
      "outputs": [
        {
          "output_type": "execute_result",
          "data": {
            "text/plain": [
              "{'B(18;23]',\n",
              " 'B(23;28]',\n",
              " 'B(28;33]',\n",
              " 'B(33;38]',\n",
              " 'B(38;43]',\n",
              " 'B(43;48]',\n",
              " 'B(48;53]',\n",
              " 'B(53;58]',\n",
              " 'B(58;63]',\n",
              " 'B(63;68]',\n",
              " 'B0',\n",
              " 'G(104;112]',\n",
              " 'G(112;120]',\n",
              " 'G(120;128]',\n",
              " 'G(128;136]',\n",
              " 'G(136;144]',\n",
              " 'G(144;152]',\n",
              " 'G(152;160]',\n",
              " 'G(160;168]',\n",
              " 'G(168;176]',\n",
              " 'G(176;184]',\n",
              " 'G(184;192]',\n",
              " 'G(192;200]',\n",
              " 'G(40;48]',\n",
              " 'G(48;56]',\n",
              " 'G(56;64]',\n",
              " 'G(64;72]',\n",
              " 'G(72;80]',\n",
              " 'G(80;88]',\n",
              " 'G(88;96]',\n",
              " 'G(96;104]',\n",
              " 'G=0'}"
            ]
          },
          "metadata": {},
          "execution_count": 86
        }
      ]
    },
    {
      "cell_type": "code",
      "execution_count": 87,
      "metadata": {
        "id": "9iOK6cnDfjrf"
      },
      "outputs": [],
      "source": [
        "descr = {'G(192;200]'}\n",
        "\n",
        "traced = cn.trace_description(descr, include_targets=False)"
      ]
    },
    {
      "cell_type": "code",
      "execution_count": 89,
      "metadata": {
        "id": "aVRH5aaYfjrg",
        "outputId": "bf6b8c84-0583-4345-a2f7-f42f359bacec",
        "colab": {
          "base_uri": "https://localhost:8080/",
          "height": 343
        }
      },
      "outputs": [
        {
          "output_type": "display_data",
          "data": {
            "text/plain": [
              "<Figure size 1440x360 with 1 Axes>"
            ],
            "image/png": "[encoded data removed]"
          },
          "metadata": {}
        }
      ],
      "source": [
        "fig, ax = plt.subplots(figsize=(20,5))\n",
        "\n",
        "vis.draw_poset(\n",
        "    cn.poset, ax=ax, \n",
        "    flg_node_indices=False,\n",
        "    node_label_func=lambda el_i, P: nl.neuron_label_func(el_i, P, set(cn.attributes), only_new_attrs=True)+'\\n\\n',\n",
        "    node_color=['darkblue' if el_i in traced else 'lightgray' for el_i in range(len(cn.poset))\n",
        "                ],\n",
        "               node_size=100,\n",
        "               node_label_font_size=6\n",
        ")\n",
        "plt.title(f'NN based on '+str(n_concepts)+' best concepts from monotone concept lattice', loc='left', x=0.05, size=24)\n",
        "\n",
        "plt.text(max(vis.mover.posx), min(vis.mover.posy)-0.3, f'*Blue neurons are the ones activated by description {descr}', fontsize=14, ha='right', color='dimgray')\n",
        "\n",
        "plt.subplots_adjust()\n",
        "plt.tight_layout()\n",
        "plt.savefig('nn_recall.png')\n",
        "plt.show()"
      ]
    },
    {
      "cell_type": "markdown",
      "metadata": {
        "id": "M8ylXp2rfjrg"
      },
      "source": [
        "Now fit the network"
      ]
    },
    {
      "cell_type": "code",
      "source": [
        "cn = nl.ConceptNetwork.from_lattice(L, best_concepts, sorted(set(y_train)))\n",
        "cn.fit(X_train, y_train,  n_epochs = 2000)\n",
        "\n",
        "y_pred = cn.predict(X_test).numpy()\n",
        "print('Class prediction', y_pred[:10])\n",
        "y_proba = cn.predict_proba(X_test).detach().numpy()\n",
        "print('Class prediction with probabilities', y_proba[:10])\n",
        "print('True class', y_test.values[:10])\n",
        "\n",
        "print('Recall score:', recall_score(y_test.values.astype('int'), y_pred))\n",
        "print('F1     score:', f1_score(y_test.values.astype('int'), y_pred))\n",
        "print('Accuracy score:', accuracy_score(y_test.values.astype('int'), y_pred))"
      ],
      "metadata": {
        "colab": {
          "base_uri": "https://localhost:8080/"
        },
        "id": "EbuzrRGoHyln",
        "outputId": "06f0c3fc-5e6e-4116-a1ef-8f1358e1996b"
      },
      "execution_count": 96,
      "outputs": [
        {
          "output_type": "stream",
          "name": "stdout",
          "text": [
            "Class prediction [1 0 0 0 0 0 1 1 0 0]\n",
            "Class prediction with probabilities [[0.19163893 0.808361  ]\n",
            " [0.9322003  0.06779968]\n",
            " [0.9789492  0.02105073]\n",
            " [0.55102307 0.44897693]\n",
            " [0.9953419  0.00465811]\n",
            " [0.99887496 0.00112501]\n",
            " [0.19163893 0.808361  ]\n",
            " [0.19163893 0.808361  ]\n",
            " [0.97324353 0.02675646]\n",
            " [0.9553096  0.04469036]]\n",
            "True class [ True False False  True False False  True  True False False]\n",
            "Recall score: 0.40540540540540543\n",
            "F1     score: 0.504201680672269\n",
            "Accuracy score: 0.7445887445887446\n"
          ]
        }
      ]
    },
    {
      "cell_type": "code",
      "source": [
        "cn = nl.ConceptNetwork.from_lattice(L, best_concepts, sorted(set(y_train)))\n",
        "cn.fit(X_train, y_train,  n_epochs = 5000)\n",
        "\n",
        "y_pred = cn.predict(X_test).numpy()\n",
        "print('Class prediction', y_pred[:10])\n",
        "y_proba = cn.predict_proba(X_test).detach().numpy()\n",
        "print('Class prediction with probabilities', y_proba[:10])\n",
        "print('True class', y_test.values[:10])\n",
        "\n",
        "print('Recall score:', recall_score(y_test.values.astype('int'), y_pred))\n",
        "print('F1     score:', f1_score(y_test.values.astype('int'), y_pred))\n",
        "print('Accuracy score:', accuracy_score(y_test.values.astype('int'), y_pred))"
      ],
      "metadata": {
        "colab": {
          "base_uri": "https://localhost:8080/"
        },
        "id": "klXwWGsdRvvP",
        "outputId": "44c72362-03b9-4eb0-b397-9f6474d6c14d"
      },
      "execution_count": 97,
      "outputs": [
        {
          "output_type": "stream",
          "name": "stdout",
          "text": [
            "Class prediction [1 0 0 0 0 0 1 1 0 0]\n",
            "Class prediction with probabilities [[2.7103415e-03 9.9728966e-01]\n",
            " [9.7947389e-01 2.0526072e-02]\n",
            " [9.8643744e-01 1.3562532e-02]\n",
            " [5.0302482e-01 4.9697512e-01]\n",
            " [9.8643744e-01 1.3562532e-02]\n",
            " [9.8643744e-01 1.3562532e-02]\n",
            " [6.6440539e-06 9.9999332e-01]\n",
            " [4.4318783e-04 9.9955684e-01]\n",
            " [9.8643744e-01 1.3562532e-02]\n",
            " [9.8643744e-01 1.3562532e-02]]\n",
            "True class [ True False False  True False False  True  True False False]\n",
            "Recall score: 0.4594594594594595\n",
            "F1     score: 0.53125\n",
            "Accuracy score: 0.7402597402597403\n"
          ]
        }
      ]
    },
    {
      "cell_type": "code",
      "source": [
        "cn = nl.ConceptNetwork.from_lattice(L, best_concepts, sorted(set(y_train)))\n",
        "cn.fit(X_train, y_train,  n_epochs = 10000)\n",
        "\n",
        "y_pred = cn.predict(X_test).numpy()\n",
        "print('Class prediction', y_pred[:10])\n",
        "y_proba = cn.predict_proba(X_test).detach().numpy()\n",
        "print('Class prediction with probabilities', y_proba[:10])\n",
        "print('True class', y_test.values[:10])\n",
        "\n",
        "print('Recall score:', recall_score(y_test.values.astype('int'), y_pred))\n",
        "print('F1     score:', f1_score(y_test.values.astype('int'), y_pred))\n",
        "print('Accuracy score:', accuracy_score(y_test.values.astype('int'), y_pred))"
      ],
      "metadata": {
        "colab": {
          "base_uri": "https://localhost:8080/"
        },
        "id": "5_4LErWkRexX",
        "outputId": "ffb84ec6-e2fc-4545-8809-d539c7471ba6"
      },
      "execution_count": 98,
      "outputs": [
        {
          "output_type": "stream",
          "name": "stdout",
          "text": [
            "Class prediction [1 0 0 0 0 0 1 1 0 0]\n",
            "Class prediction with probabilities [[3.3434788e-03 9.9665654e-01]\n",
            " [9.9620456e-01 3.7955053e-03]\n",
            " [9.9999976e-01 2.8687106e-07]\n",
            " [5.0040424e-01 4.9959576e-01]\n",
            " [1.0000000e+00 9.1092259e-11]\n",
            " [1.0000000e+00 1.6990996e-14]\n",
            " [3.3434788e-03 9.9665654e-01]\n",
            " [3.3434788e-03 9.9665654e-01]\n",
            " [1.0000000e+00 8.1210754e-09]\n",
            " [9.9931443e-01 6.8553834e-04]]\n",
            "True class [ True False False  True False False  True  True False False]\n",
            "Recall score: 0.44594594594594594\n",
            "F1     score: 0.5196850393700787\n",
            "Accuracy score: 0.7359307359307359\n"
          ]
        }
      ]
    },
    {
      "cell_type": "markdown",
      "source": [
        "The best reault were 5 000 epochs"
      ],
      "metadata": {
        "id": "H_iBCB07X6Oq"
      }
    },
    {
      "cell_type": "code",
      "source": [
        "cn = nl.ConceptNetwork.from_lattice(L, best_concepts, sorted(set(y_train)))\n",
        "cn.fit(X_train, y_train,  n_epochs = 5000)\n",
        "\n",
        "y_pred = cn.predict(X_test).numpy()\n",
        "print('Class prediction', y_pred[:10])\n",
        "y_proba = cn.predict_proba(X_test).detach().numpy()\n",
        "print('Class prediction with probabilities', y_proba[:10])\n",
        "print('True class', y_test.values[:10])\n",
        "\n",
        "print('Recall score:', recall_score(y_test.values.astype('int'), y_pred))\n",
        "print('F1     score:', f1_score(y_test.values.astype('int'), y_pred))\n",
        "print('Accuracy score:', accuracy_score(y_test.values.astype('int'), y_pred))"
      ],
      "metadata": {
        "colab": {
          "base_uri": "https://localhost:8080/"
        },
        "id": "pYQQ7Vx_YCVZ",
        "outputId": "9bf6fdcd-3748-4722-8c23-07b31bd2de4f"
      },
      "execution_count": 103,
      "outputs": [
        {
          "output_type": "stream",
          "name": "stdout",
          "text": [
            "Class prediction [1 0 0 1 0 0 1 1 0 0]\n",
            "Class prediction with probabilities [[4.2240232e-02 9.5775980e-01]\n",
            " [9.7036171e-01 2.9638350e-02]\n",
            " [9.9976248e-01 2.3756959e-04]\n",
            " [4.9557775e-01 5.0442225e-01]\n",
            " [9.9991465e-01 8.5337546e-05]\n",
            " [9.9999905e-01 9.7507757e-07]\n",
            " [4.2240232e-02 9.5775980e-01]\n",
            " [4.2240232e-02 9.5775980e-01]\n",
            " [9.9893683e-01 1.0632131e-03]\n",
            " [9.8950970e-01 1.0490279e-02]]\n",
            "True class [ True False False  True False False  True  True False False]\n",
            "Recall score: 0.4594594594594595\n",
            "F1     score: 0.5354330708661417\n",
            "Accuracy score: 0.7445887445887446\n"
          ]
        }
      ]
    },
    {
      "cell_type": "code",
      "execution_count": 104,
      "metadata": {
        "id": "H5eDFOWWfjrh"
      },
      "outputs": [],
      "source": [
        "edge_weights = cn.edge_weights_from_network()"
      ]
    },
    {
      "cell_type": "code",
      "execution_count": 106,
      "metadata": {
        "id": "5h2rcRr7fjrh",
        "outputId": "9e08a565-f73e-43e2-f705-1b2c596b686b",
        "colab": {
          "base_uri": "https://localhost:8080/",
          "height": 369
        }
      },
      "outputs": [
        {
          "output_type": "display_data",
          "data": {
            "text/plain": [
              "<Figure size 1080x360 with 1 Axes>"
            ],
            "image/png": "[encoded data removed]"
          },
          "metadata": {}
        }
      ],
      "source": [
        "import networkx as nx\n",
        "\n",
        "fig, ax = plt.subplots(figsize=(15,5))\n",
        "\n",
        "vis.draw_poset(\n",
        "    cn.poset, ax=ax, \n",
        "    flg_node_indices=False,\n",
        "    node_label_func=lambda el_i, P: nl.neuron_label_func(el_i, P, set(cn.attributes), only_new_attrs=True)+'\\n\\n',\n",
        "    edge_color=[edge_weights[edge] for edge in cn.poset.to_networkx().edges],\n",
        "    edge_cmap=plt.cm.RdBu,\n",
        "    \n",
        "               node_size=100,\n",
        "               node_label_font_size=6\n",
        ")\n",
        "nx.draw_networkx_edge_labels(cn.poset.to_networkx(), vis.mover.pos, {k: f\"{v:.1f}\" for k,v in edge_weights.items()}, label_pos=0.7)\n",
        "\n",
        "plt.title('Neural network with fitted edge weights', size=24, x=0.05, loc='left')\n",
        "plt.tight_layout()\n",
        "plt.subplots_adjust()\n",
        "plt.savefig('fitted_recall.png')\n",
        "plt.show()"
      ]
    }
  ],
  "metadata": {
    "colab": {
      "provenance": []
    },
    "kernelspec": {
      "display_name": "Python 3",
      "language": "python",
      "name": "python3"
    },
    "language_info": {
      "codemirror_mode": {
        "name": "ipython",
        "version": 3
      },
      "file_extension": ".py",
      "mimetype": "text/x-python",
      "name": "python",
      "nbconvert_exporter": "python",
      "pygments_lexer": "ipython3",
      "version": "3.8.3"
    }
  },
  "nbformat": 4,
  "nbformat_minor": 0
}