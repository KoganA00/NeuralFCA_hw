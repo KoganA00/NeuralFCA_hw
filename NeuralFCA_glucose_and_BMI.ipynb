{
  "cells": [
    {
      "cell_type": "raw",
      "metadata": {
        "id": "DvQoEG_bfjrT"
      },
      "source": []
    },
    {
      "cell_type": "code",
      "execution_count": null,
      "metadata": {
        "id": "7VVl_UKKfyVC"
      },
      "outputs": [],
      "source": [
        "!pip install fcapy==0.1.4.1\n",
        "!pip install frozendict\n",
        "!pip install ipynb\n",
        "!pip install sparselinear\n",
        "!pip install bitsets\n",
        "!pip install bitarray\n",
        "\n",
        "!pip install torch-scatter -f https://data.pyg.org/whl/torch-1.13.0+cu116.html\n",
        "!pip install torch-sparse -f https://data.pyg.org/whl/torch-1.13.0+cu116.html\n",
        "!pip install torch-cluster -f https://data.pyg.org/whl/torch-1.13.0+cu116.html\n",
        "!pip install git+https://github.com/pyg-team/pytorch_geometric.git"
      ]
    },
    {
      "cell_type": "code",
      "source": [
        "#!pip install bitarray\n",
        "#!pip install bitsets"
      ],
      "metadata": {
        "id": "2dzdmdKGziSx"
      },
      "execution_count": null,
      "outputs": []
    },
    {
      "cell_type": "code",
      "source": [],
      "metadata": {
        "id": "8N4SIRFAwACG"
      },
      "execution_count": null,
      "outputs": []
    },
    {
      "cell_type": "code",
      "execution_count": 4,
      "metadata": {
        "id": "c-ljCMXxfjrW"
      },
      "outputs": [],
      "source": [
        "import numpy as np\n",
        "import pandas as pd\n",
        "from sklearn.model_selection import train_test_split\n",
        "from sklearn.metrics import f1_score, recall_score, accuracy_score, classification_report\n",
        "\n",
        "from fcapy.context import FormalContext\n",
        "from fcapy.lattice import ConceptLattice\n",
        "\n",
        "from fcapy.visualizer import LineVizNx\n",
        "import matplotlib.pyplot as plt\n",
        "\n",
        "plt.rcParams['figure.facecolor'] = (1,1,1,1)\n",
        "\n",
        "import neural_lib as nl"
      ]
    },
    {
      "cell_type": "markdown",
      "metadata": {
        "id": "JXfExtmTfjrZ"
      },
      "source": [
        "# Pipeline"
      ]
    },
    {
      "cell_type": "code",
      "source": [
        "df = pd.read_csv('/content/diabetes.csv')\n",
        "print(df.shape)\n",
        "df.sample()"
      ],
      "metadata": {
        "colab": {
          "base_uri": "https://localhost:8080/",
          "height": 99
        },
        "id": "4_TMy5tww26Z",
        "outputId": "2d5c30e0-fa0f-47f3-95ff-fcaecfca67dd"
      },
      "execution_count": 5,
      "outputs": [
        {
          "output_type": "stream",
          "name": "stdout",
          "text": [
            "(768, 9)\n"
          ]
        },
        {
          "output_type": "execute_result",
          "data": {
            "text/plain": [
              "     Pregnancies  Glucose  BloodPressure  SkinThickness  Insulin   BMI  \\\n",
              "421            2       94             68             18       76  26.0   \n",
              "\n",
              "     DiabetesPedigreeFunction  Age  Outcome  \n",
              "421                     0.561   21        0  "
            ],
            "text/html": [
              "\n",
              "  <div id=\"df-409bbbc9-be9b-4bc8-a28c-89ce703ab45b\">\n",
              "    <div class=\"colab-df-container\">\n",
              "      <div>\n",
              "<style scoped>\n",
              "    .dataframe tbody tr th:only-of-type {\n",
              "        vertical-align: middle;\n",
              "    }\n",
              "\n",
              "    .dataframe tbody tr th {\n",
              "        vertical-align: top;\n",
              "    }\n",
              "\n",
              "    .dataframe thead th {\n",
              "        text-align: right;\n",
              "    }\n",
              "</style>\n",
              "<table border=\"1\" class=\"dataframe\">\n",
              "  <thead>\n",
              "    <tr style=\"text-align: right;\">\n",
              "      <th></th>\n",
              "      <th>Pregnancies</th>\n",
              "      <th>Glucose</th>\n",
              "      <th>BloodPressure</th>\n",
              "      <th>SkinThickness</th>\n",
              "      <th>Insulin</th>\n",
              "      <th>BMI</th>\n",
              "      <th>DiabetesPedigreeFunction</th>\n",
              "      <th>Age</th>\n",
              "      <th>Outcome</th>\n",
              "    </tr>\n",
              "  </thead>\n",
              "  <tbody>\n",
              "    <tr>\n",
              "      <th>421</th>\n",
              "      <td>2</td>\n",
              "      <td>94</td>\n",
              "      <td>68</td>\n",
              "      <td>18</td>\n",
              "      <td>76</td>\n",
              "      <td>26.0</td>\n",
              "      <td>0.561</td>\n",
              "      <td>21</td>\n",
              "      <td>0</td>\n",
              "    </tr>\n",
              "  </tbody>\n",
              "</table>\n",
              "</div>\n",
              "      <button class=\"colab-df-convert\" onclick=\"convertToInteractive('df-409bbbc9-be9b-4bc8-a28c-89ce703ab45b')\"\n",
              "              title=\"Convert this dataframe to an interactive table.\"\n",
              "              style=\"display:none;\">\n",
              "        \n",
              "  <svg xmlns=\"http://www.w3.org/2000/svg\" height=\"24px\"viewBox=\"0 0 24 24\"\n",
              "       width=\"24px\">\n",
              "    <path d=\"M0 0h24v24H0V0z\" fill=\"none\"/>\n",
              "    <path d=\"M18.56 5.44l.94 2.06.94-2.06 2.06-.94-2.06-.94-.94-2.06-.94 2.06-2.06.94zm-11 1L8.5 8.5l.94-2.06 2.06-.94-2.06-.94L8.5 2.5l-.94 2.06-2.06.94zm10 10l.94 2.06.94-2.06 2.06-.94-2.06-.94-.94-2.06-.94 2.06-2.06.94z\"/><path d=\"M17.41 7.96l-1.37-1.37c-.4-.4-.92-.59-1.43-.59-.52 0-1.04.2-1.43.59L10.3 9.45l-7.72 7.72c-.78.78-.78 2.05 0 2.83L4 21.41c.39.39.9.59 1.41.59.51 0 1.02-.2 1.41-.59l7.78-7.78 2.81-2.81c.8-.78.8-2.07 0-2.86zM5.41 20L4 18.59l7.72-7.72 1.47 1.35L5.41 20z\"/>\n",
              "  </svg>\n",
              "      </button>\n",
              "      \n",
              "  <style>\n",
              "    .colab-df-container {\n",
              "      display:flex;\n",
              "      flex-wrap:wrap;\n",
              "      gap: 12px;\n",
              "    }\n",
              "\n",
              "    .colab-df-convert {\n",
              "      background-color: #E8F0FE;\n",
              "      border: none;\n",
              "      border-radius: 50%;\n",
              "      cursor: pointer;\n",
              "      display: none;\n",
              "      fill: #1967D2;\n",
              "      height: 32px;\n",
              "      padding: 0 0 0 0;\n",
              "      width: 32px;\n",
              "    }\n",
              "\n",
              "    .colab-df-convert:hover {\n",
              "      background-color: #E2EBFA;\n",
              "      box-shadow: 0px 1px 2px rgba(60, 64, 67, 0.3), 0px 1px 3px 1px rgba(60, 64, 67, 0.15);\n",
              "      fill: #174EA6;\n",
              "    }\n",
              "\n",
              "    [theme=dark] .colab-df-convert {\n",
              "      background-color: #3B4455;\n",
              "      fill: #D2E3FC;\n",
              "    }\n",
              "\n",
              "    [theme=dark] .colab-df-convert:hover {\n",
              "      background-color: #434B5C;\n",
              "      box-shadow: 0px 1px 3px 1px rgba(0, 0, 0, 0.15);\n",
              "      filter: drop-shadow(0px 1px 2px rgba(0, 0, 0, 0.3));\n",
              "      fill: #FFFFFF;\n",
              "    }\n",
              "  </style>\n",
              "\n",
              "      <script>\n",
              "        const buttonEl =\n",
              "          document.querySelector('#df-409bbbc9-be9b-4bc8-a28c-89ce703ab45b button.colab-df-convert');\n",
              "        buttonEl.style.display =\n",
              "          google.colab.kernel.accessAllowed ? 'block' : 'none';\n",
              "\n",
              "        async function convertToInteractive(key) {\n",
              "          const element = document.querySelector('#df-409bbbc9-be9b-4bc8-a28c-89ce703ab45b');\n",
              "          const dataTable =\n",
              "            await google.colab.kernel.invokeFunction('convertToInteractive',\n",
              "                                                     [key], {});\n",
              "          if (!dataTable) return;\n",
              "\n",
              "          const docLinkHtml = 'Like what you see? Visit the ' +\n",
              "            '<a target=\"_blank\" href=https://colab.research.google.com/notebooks/data_table.ipynb>data table notebook</a>'\n",
              "            + ' to learn more about interactive tables.';\n",
              "          element.innerHTML = '';\n",
              "          dataTable['output_type'] = 'display_data';\n",
              "          await google.colab.output.renderOutput(dataTable, element);\n",
              "          const docLink = document.createElement('div');\n",
              "          docLink.innerHTML = docLinkHtml;\n",
              "          element.appendChild(docLink);\n",
              "        }\n",
              "      </script>\n",
              "    </div>\n",
              "  </div>\n",
              "  "
            ]
          },
          "metadata": {},
          "execution_count": 5
        }
      ]
    },
    {
      "cell_type": "markdown",
      "metadata": {
        "id": "TEKqUkbKfjra"
      },
      "source": [
        "# Step 0. Binarize the data"
      ]
    },
    {
      "cell_type": "code",
      "source": [
        "df_bin = pd.DataFrame()\n",
        "#1\n",
        "step = 8\n",
        "col='Glucose'\n",
        "start, finish = 40, 200\n",
        "df_bin[col[0]+'=0'] = df[col] == 0\n",
        "for i in range(start, finish, step):\n",
        "  df_bin['G('+str(i) + ';' + str(i+step) + ']'] = (df[col] >i ) & (df[col] <= (i+step))\n",
        "#2\n",
        "step = 5\n",
        "col = 'BMI'\n",
        "start, finish = 18, 67\n",
        "df_bin[col[0]+'0'] = df[col] == 0\n",
        "for i in range(start, finish, step):\n",
        "  df_bin[col[0]+'('+str(i) + ';' + str(i+step) + ']'] = (df[col] >i ) & (df[col] <= (i+step))\n",
        "\n",
        "\n",
        "df_bin['Outcome'] = df['Outcome'] == 1\n"
      ],
      "metadata": {
        "id": "OGTjZjfWxGpd"
      },
      "execution_count": 6,
      "outputs": []
    },
    {
      "cell_type": "code",
      "source": [
        "df_bin.shape"
      ],
      "metadata": {
        "colab": {
          "base_uri": "https://localhost:8080/"
        },
        "id": "Ui6aEs3E-Eoj",
        "outputId": "a38a8c7b-2715-473b-acd6-1594179c0362"
      },
      "execution_count": 7,
      "outputs": [
        {
          "output_type": "execute_result",
          "data": {
            "text/plain": [
              "(768, 33)"
            ]
          },
          "metadata": {},
          "execution_count": 7
        }
      ]
    },
    {
      "cell_type": "code",
      "source": [
        "\n",
        "df_bin['sample_id'] = np.arange(0, df_bin.shape[0], 1).astype(str)\n",
        "df_bin['id'] = df_bin['sample_id'].apply(lambda x: 'h' + x)\n",
        "df_bin.drop(columns=['sample_id'], inplace=True)\n",
        "df_bin=df_bin.set_index('id')\n",
        "df_bin.sample()"
      ],
      "metadata": {
        "colab": {
          "base_uri": "https://localhost:8080/",
          "height": 205
        },
        "id": "YAGD8eiTAf-S",
        "outputId": "81f806f4-1ebd-4cfa-d517-407f3aa1947d"
      },
      "execution_count": 8,
      "outputs": [
        {
          "output_type": "execute_result",
          "data": {
            "text/plain": [
              "        G=0  G(40;48]  G(48;56]  G(56;64]  G(64;72]  G(72;80]  G(80;88]  \\\n",
              "id                                                                        \n",
              "h410  False     False     False     False     False     False     False   \n",
              "\n",
              "      G(88;96]  G(96;104]  G(104;112]  ...  B(23;28]  B(28;33]  B(33;38]  \\\n",
              "id                                     ...                                 \n",
              "h410     False       True       False  ...     False     False      True   \n",
              "\n",
              "      B(38;43]  B(43;48]  B(48;53]  B(53;58]  B(58;63]  B(63;68]  Outcome  \n",
              "id                                                                         \n",
              "h410     False     False     False     False     False     False    False  \n",
              "\n",
              "[1 rows x 33 columns]"
            ],
            "text/html": [
              "\n",
              "  <div id=\"df-216c8491-411e-4b2e-ba9a-3ce5f0f0ecc1\">\n",
              "    <div class=\"colab-df-container\">\n",
              "      <div>\n",
              "<style scoped>\n",
              "    .dataframe tbody tr th:only-of-type {\n",
              "        vertical-align: middle;\n",
              "    }\n",
              "\n",
              "    .dataframe tbody tr th {\n",
              "        vertical-align: top;\n",
              "    }\n",
              "\n",
              "    .dataframe thead th {\n",
              "        text-align: right;\n",
              "    }\n",
              "</style>\n",
              "<table border=\"1\" class=\"dataframe\">\n",
              "  <thead>\n",
              "    <tr style=\"text-align: right;\">\n",
              "      <th></th>\n",
              "      <th>G=0</th>\n",
              "      <th>G(40;48]</th>\n",
              "      <th>G(48;56]</th>\n",
              "      <th>G(56;64]</th>\n",
              "      <th>G(64;72]</th>\n",
              "      <th>G(72;80]</th>\n",
              "      <th>G(80;88]</th>\n",
              "      <th>G(88;96]</th>\n",
              "      <th>G(96;104]</th>\n",
              "      <th>G(104;112]</th>\n",
              "      <th>...</th>\n",
              "      <th>B(23;28]</th>\n",
              "      <th>B(28;33]</th>\n",
              "      <th>B(33;38]</th>\n",
              "      <th>B(38;43]</th>\n",
              "      <th>B(43;48]</th>\n",
              "      <th>B(48;53]</th>\n",
              "      <th>B(53;58]</th>\n",
              "      <th>B(58;63]</th>\n",
              "      <th>B(63;68]</th>\n",
              "      <th>Outcome</th>\n",
              "    </tr>\n",
              "    <tr>\n",
              "      <th>id</th>\n",
              "      <th></th>\n",
              "      <th></th>\n",
              "      <th></th>\n",
              "      <th></th>\n",
              "      <th></th>\n",
              "      <th></th>\n",
              "      <th></th>\n",
              "      <th></th>\n",
              "      <th></th>\n",
              "      <th></th>\n",
              "      <th></th>\n",
              "      <th></th>\n",
              "      <th></th>\n",
              "      <th></th>\n",
              "      <th></th>\n",
              "      <th></th>\n",
              "      <th></th>\n",
              "      <th></th>\n",
              "      <th></th>\n",
              "      <th></th>\n",
              "      <th></th>\n",
              "    </tr>\n",
              "  </thead>\n",
              "  <tbody>\n",
              "    <tr>\n",
              "      <th>h410</th>\n",
              "      <td>False</td>\n",
              "      <td>False</td>\n",
              "      <td>False</td>\n",
              "      <td>False</td>\n",
              "      <td>False</td>\n",
              "      <td>False</td>\n",
              "      <td>False</td>\n",
              "      <td>False</td>\n",
              "      <td>True</td>\n",
              "      <td>False</td>\n",
              "      <td>...</td>\n",
              "      <td>False</td>\n",
              "      <td>False</td>\n",
              "      <td>True</td>\n",
              "      <td>False</td>\n",
              "      <td>False</td>\n",
              "      <td>False</td>\n",
              "      <td>False</td>\n",
              "      <td>False</td>\n",
              "      <td>False</td>\n",
              "      <td>False</td>\n",
              "    </tr>\n",
              "  </tbody>\n",
              "</table>\n",
              "<p>1 rows × 33 columns</p>\n",
              "</div>\n",
              "      <button class=\"colab-df-convert\" onclick=\"convertToInteractive('df-216c8491-411e-4b2e-ba9a-3ce5f0f0ecc1')\"\n",
              "              title=\"Convert this dataframe to an interactive table.\"\n",
              "              style=\"display:none;\">\n",
              "        \n",
              "  <svg xmlns=\"http://www.w3.org/2000/svg\" height=\"24px\"viewBox=\"0 0 24 24\"\n",
              "       width=\"24px\">\n",
              "    <path d=\"M0 0h24v24H0V0z\" fill=\"none\"/>\n",
              "    <path d=\"M18.56 5.44l.94 2.06.94-2.06 2.06-.94-2.06-.94-.94-2.06-.94 2.06-2.06.94zm-11 1L8.5 8.5l.94-2.06 2.06-.94-2.06-.94L8.5 2.5l-.94 2.06-2.06.94zm10 10l.94 2.06.94-2.06 2.06-.94-2.06-.94-.94-2.06-.94 2.06-2.06.94z\"/><path d=\"M17.41 7.96l-1.37-1.37c-.4-.4-.92-.59-1.43-.59-.52 0-1.04.2-1.43.59L10.3 9.45l-7.72 7.72c-.78.78-.78 2.05 0 2.83L4 21.41c.39.39.9.59 1.41.59.51 0 1.02-.2 1.41-.59l7.78-7.78 2.81-2.81c.8-.78.8-2.07 0-2.86zM5.41 20L4 18.59l7.72-7.72 1.47 1.35L5.41 20z\"/>\n",
              "  </svg>\n",
              "      </button>\n",
              "      \n",
              "  <style>\n",
              "    .colab-df-container {\n",
              "      display:flex;\n",
              "      flex-wrap:wrap;\n",
              "      gap: 12px;\n",
              "    }\n",
              "\n",
              "    .colab-df-convert {\n",
              "      background-color: #E8F0FE;\n",
              "      border: none;\n",
              "      border-radius: 50%;\n",
              "      cursor: pointer;\n",
              "      display: none;\n",
              "      fill: #1967D2;\n",
              "      height: 32px;\n",
              "      padding: 0 0 0 0;\n",
              "      width: 32px;\n",
              "    }\n",
              "\n",
              "    .colab-df-convert:hover {\n",
              "      background-color: #E2EBFA;\n",
              "      box-shadow: 0px 1px 2px rgba(60, 64, 67, 0.3), 0px 1px 3px 1px rgba(60, 64, 67, 0.15);\n",
              "      fill: #174EA6;\n",
              "    }\n",
              "\n",
              "    [theme=dark] .colab-df-convert {\n",
              "      background-color: #3B4455;\n",
              "      fill: #D2E3FC;\n",
              "    }\n",
              "\n",
              "    [theme=dark] .colab-df-convert:hover {\n",
              "      background-color: #434B5C;\n",
              "      box-shadow: 0px 1px 3px 1px rgba(0, 0, 0, 0.15);\n",
              "      filter: drop-shadow(0px 1px 2px rgba(0, 0, 0, 0.3));\n",
              "      fill: #FFFFFF;\n",
              "    }\n",
              "  </style>\n",
              "\n",
              "      <script>\n",
              "        const buttonEl =\n",
              "          document.querySelector('#df-216c8491-411e-4b2e-ba9a-3ce5f0f0ecc1 button.colab-df-convert');\n",
              "        buttonEl.style.display =\n",
              "          google.colab.kernel.accessAllowed ? 'block' : 'none';\n",
              "\n",
              "        async function convertToInteractive(key) {\n",
              "          const element = document.querySelector('#df-216c8491-411e-4b2e-ba9a-3ce5f0f0ecc1');\n",
              "          const dataTable =\n",
              "            await google.colab.kernel.invokeFunction('convertToInteractive',\n",
              "                                                     [key], {});\n",
              "          if (!dataTable) return;\n",
              "\n",
              "          const docLinkHtml = 'Like what you see? Visit the ' +\n",
              "            '<a target=\"_blank\" href=https://colab.research.google.com/notebooks/data_table.ipynb>data table notebook</a>'\n",
              "            + ' to learn more about interactive tables.';\n",
              "          element.innerHTML = '';\n",
              "          dataTable['output_type'] = 'display_data';\n",
              "          await google.colab.output.renderOutput(dataTable, element);\n",
              "          const docLink = document.createElement('div');\n",
              "          docLink.innerHTML = docLinkHtml;\n",
              "          element.appendChild(docLink);\n",
              "        }\n",
              "      </script>\n",
              "    </div>\n",
              "  </div>\n",
              "  "
            ]
          },
          "metadata": {},
          "execution_count": 8
        }
      ]
    },
    {
      "cell_type": "markdown",
      "metadata": {
        "id": "DexllfA0fjrb"
      },
      "source": [
        "Split the data to train and test"
      ]
    },
    {
      "cell_type": "code",
      "source": [
        "y_feat = 'Outcome'\n",
        "df_train, df_test = train_test_split(df_bin, train_size=0.7, random_state=0)\n",
        "\n",
        "X_train, y_train = df_train.drop(y_feat, axis=1), df_train[y_feat]\n",
        "X_test, y_test = df_test.drop(y_feat, axis=1), df_test[y_feat]\n",
        "X_train.sample()\n",
        "\n"
      ],
      "metadata": {
        "id": "rknfFUu3LDgE",
        "colab": {
          "base_uri": "https://localhost:8080/",
          "height": 205
        },
        "outputId": "42a897d5-e263-4328-9e39-d1c192f1489d"
      },
      "execution_count": 9,
      "outputs": [
        {
          "output_type": "execute_result",
          "data": {
            "text/plain": [
              "        G=0  G(40;48]  G(48;56]  G(56;64]  G(64;72]  G(72;80]  G(80;88]  \\\n",
              "id                                                                        \n",
              "h102  False     False     False     False     False     False     False   \n",
              "\n",
              "      G(88;96]  G(96;104]  G(104;112]  ...  B(18;23]  B(23;28]  B(28;33]  \\\n",
              "id                                     ...                                 \n",
              "h102     False      False       False  ...      True     False     False   \n",
              "\n",
              "      B(33;38]  B(38;43]  B(43;48]  B(48;53]  B(53;58]  B(58;63]  B(63;68]  \n",
              "id                                                                          \n",
              "h102     False     False     False     False     False     False     False  \n",
              "\n",
              "[1 rows x 32 columns]"
            ],
            "text/html": [
              "\n",
              "  <div id=\"df-9f0c42a3-f5cb-4d3b-8aa6-4a576bbbb45f\">\n",
              "    <div class=\"colab-df-container\">\n",
              "      <div>\n",
              "<style scoped>\n",
              "    .dataframe tbody tr th:only-of-type {\n",
              "        vertical-align: middle;\n",
              "    }\n",
              "\n",
              "    .dataframe tbody tr th {\n",
              "        vertical-align: top;\n",
              "    }\n",
              "\n",
              "    .dataframe thead th {\n",
              "        text-align: right;\n",
              "    }\n",
              "</style>\n",
              "<table border=\"1\" class=\"dataframe\">\n",
              "  <thead>\n",
              "    <tr style=\"text-align: right;\">\n",
              "      <th></th>\n",
              "      <th>G=0</th>\n",
              "      <th>G(40;48]</th>\n",
              "      <th>G(48;56]</th>\n",
              "      <th>G(56;64]</th>\n",
              "      <th>G(64;72]</th>\n",
              "      <th>G(72;80]</th>\n",
              "      <th>G(80;88]</th>\n",
              "      <th>G(88;96]</th>\n",
              "      <th>G(96;104]</th>\n",
              "      <th>G(104;112]</th>\n",
              "      <th>...</th>\n",
              "      <th>B(18;23]</th>\n",
              "      <th>B(23;28]</th>\n",
              "      <th>B(28;33]</th>\n",
              "      <th>B(33;38]</th>\n",
              "      <th>B(38;43]</th>\n",
              "      <th>B(43;48]</th>\n",
              "      <th>B(48;53]</th>\n",
              "      <th>B(53;58]</th>\n",
              "      <th>B(58;63]</th>\n",
              "      <th>B(63;68]</th>\n",
              "    </tr>\n",
              "    <tr>\n",
              "      <th>id</th>\n",
              "      <th></th>\n",
              "      <th></th>\n",
              "      <th></th>\n",
              "      <th></th>\n",
              "      <th></th>\n",
              "      <th></th>\n",
              "      <th></th>\n",
              "      <th></th>\n",
              "      <th></th>\n",
              "      <th></th>\n",
              "      <th></th>\n",
              "      <th></th>\n",
              "      <th></th>\n",
              "      <th></th>\n",
              "      <th></th>\n",
              "      <th></th>\n",
              "      <th></th>\n",
              "      <th></th>\n",
              "      <th></th>\n",
              "      <th></th>\n",
              "      <th></th>\n",
              "    </tr>\n",
              "  </thead>\n",
              "  <tbody>\n",
              "    <tr>\n",
              "      <th>h102</th>\n",
              "      <td>False</td>\n",
              "      <td>False</td>\n",
              "      <td>False</td>\n",
              "      <td>False</td>\n",
              "      <td>False</td>\n",
              "      <td>False</td>\n",
              "      <td>False</td>\n",
              "      <td>False</td>\n",
              "      <td>False</td>\n",
              "      <td>False</td>\n",
              "      <td>...</td>\n",
              "      <td>True</td>\n",
              "      <td>False</td>\n",
              "      <td>False</td>\n",
              "      <td>False</td>\n",
              "      <td>False</td>\n",
              "      <td>False</td>\n",
              "      <td>False</td>\n",
              "      <td>False</td>\n",
              "      <td>False</td>\n",
              "      <td>False</td>\n",
              "    </tr>\n",
              "  </tbody>\n",
              "</table>\n",
              "<p>1 rows × 32 columns</p>\n",
              "</div>\n",
              "      <button class=\"colab-df-convert\" onclick=\"convertToInteractive('df-9f0c42a3-f5cb-4d3b-8aa6-4a576bbbb45f')\"\n",
              "              title=\"Convert this dataframe to an interactive table.\"\n",
              "              style=\"display:none;\">\n",
              "        \n",
              "  <svg xmlns=\"http://www.w3.org/2000/svg\" height=\"24px\"viewBox=\"0 0 24 24\"\n",
              "       width=\"24px\">\n",
              "    <path d=\"M0 0h24v24H0V0z\" fill=\"none\"/>\n",
              "    <path d=\"M18.56 5.44l.94 2.06.94-2.06 2.06-.94-2.06-.94-.94-2.06-.94 2.06-2.06.94zm-11 1L8.5 8.5l.94-2.06 2.06-.94-2.06-.94L8.5 2.5l-.94 2.06-2.06.94zm10 10l.94 2.06.94-2.06 2.06-.94-2.06-.94-.94-2.06-.94 2.06-2.06.94z\"/><path d=\"M17.41 7.96l-1.37-1.37c-.4-.4-.92-.59-1.43-.59-.52 0-1.04.2-1.43.59L10.3 9.45l-7.72 7.72c-.78.78-.78 2.05 0 2.83L4 21.41c.39.39.9.59 1.41.59.51 0 1.02-.2 1.41-.59l7.78-7.78 2.81-2.81c.8-.78.8-2.07 0-2.86zM5.41 20L4 18.59l7.72-7.72 1.47 1.35L5.41 20z\"/>\n",
              "  </svg>\n",
              "      </button>\n",
              "      \n",
              "  <style>\n",
              "    .colab-df-container {\n",
              "      display:flex;\n",
              "      flex-wrap:wrap;\n",
              "      gap: 12px;\n",
              "    }\n",
              "\n",
              "    .colab-df-convert {\n",
              "      background-color: #E8F0FE;\n",
              "      border: none;\n",
              "      border-radius: 50%;\n",
              "      cursor: pointer;\n",
              "      display: none;\n",
              "      fill: #1967D2;\n",
              "      height: 32px;\n",
              "      padding: 0 0 0 0;\n",
              "      width: 32px;\n",
              "    }\n",
              "\n",
              "    .colab-df-convert:hover {\n",
              "      background-color: #E2EBFA;\n",
              "      box-shadow: 0px 1px 2px rgba(60, 64, 67, 0.3), 0px 1px 3px 1px rgba(60, 64, 67, 0.15);\n",
              "      fill: #174EA6;\n",
              "    }\n",
              "\n",
              "    [theme=dark] .colab-df-convert {\n",
              "      background-color: #3B4455;\n",
              "      fill: #D2E3FC;\n",
              "    }\n",
              "\n",
              "    [theme=dark] .colab-df-convert:hover {\n",
              "      background-color: #434B5C;\n",
              "      box-shadow: 0px 1px 3px 1px rgba(0, 0, 0, 0.15);\n",
              "      filter: drop-shadow(0px 1px 2px rgba(0, 0, 0, 0.3));\n",
              "      fill: #FFFFFF;\n",
              "    }\n",
              "  </style>\n",
              "\n",
              "      <script>\n",
              "        const buttonEl =\n",
              "          document.querySelector('#df-9f0c42a3-f5cb-4d3b-8aa6-4a576bbbb45f button.colab-df-convert');\n",
              "        buttonEl.style.display =\n",
              "          google.colab.kernel.accessAllowed ? 'block' : 'none';\n",
              "\n",
              "        async function convertToInteractive(key) {\n",
              "          const element = document.querySelector('#df-9f0c42a3-f5cb-4d3b-8aa6-4a576bbbb45f');\n",
              "          const dataTable =\n",
              "            await google.colab.kernel.invokeFunction('convertToInteractive',\n",
              "                                                     [key], {});\n",
              "          if (!dataTable) return;\n",
              "\n",
              "          const docLinkHtml = 'Like what you see? Visit the ' +\n",
              "            '<a target=\"_blank\" href=https://colab.research.google.com/notebooks/data_table.ipynb>data table notebook</a>'\n",
              "            + ' to learn more about interactive tables.';\n",
              "          element.innerHTML = '';\n",
              "          dataTable['output_type'] = 'display_data';\n",
              "          await google.colab.output.renderOutput(dataTable, element);\n",
              "          const docLink = document.createElement('div');\n",
              "          docLink.innerHTML = docLinkHtml;\n",
              "          element.appendChild(docLink);\n",
              "        }\n",
              "      </script>\n",
              "    </div>\n",
              "  </div>\n",
              "  "
            ]
          },
          "metadata": {},
          "execution_count": 9
        }
      ]
    },
    {
      "cell_type": "markdown",
      "metadata": {
        "id": "IPBudGSrfjrc"
      },
      "source": [
        "## Step 1. Build Monotone Concept Lattice"
      ]
    },
    {
      "cell_type": "markdown",
      "metadata": {
        "id": "1s6zFBgifjrc"
      },
      "source": [
        "Put binarized data in FormalContext and compute monotone ConceptLattice"
      ]
    },
    {
      "cell_type": "code",
      "execution_count": 10,
      "metadata": {
        "id": "l3fgRDEwfjrc",
        "outputId": "59ff0ab5-2ec2-471a-e32d-0db7afd740df",
        "colab": {
          "base_uri": "https://localhost:8080/"
        }
      },
      "outputs": [
        {
          "output_type": "stream",
          "name": "stdout",
          "text": [
            "CPU times: user 6.54 ms, sys: 0 ns, total: 6.54 ms\n",
            "Wall time: 8.36 ms\n"
          ]
        },
        {
          "output_type": "execute_result",
          "data": {
            "text/plain": [
              "FormalContext (537 objects, 32 attributes, 1074 connections)\n",
              "    |G=0|G(40;48]|G(48;56]|G(56;64]|G(64;72]|...|B(43;48]|B(48;53]|B(53;58]|B(58;63]|B(63;68]|\n",
              "h580|   |        |        |        |        |...|        |        |        |        |        |\n",
              "h418|   |        |        |        |        |...|        |        |        |        |        |\n",
              "h764|   |        |        |        |        |...|        |        |        |        |        |\n",
              "h363|   |        |        |        |        |...|        |        |        |        |        |\n",
              "h757|   |        |        |        |        |...|        |        |        |        |        |\n",
              "h636|   |        |        |        |        |...|        |        |        |        |        |\n",
              "h155|   |        |        |        |        |...|        |       X|        |        |        |\n",
              "h390|   |        |        |        |        |...|        |        |        |        |        |\n",
              "h761|   |        |        |        |        |...|       X|        |        |        |        |\n",
              "h358|   |        |        |        |        |...|        |        |        |        |        |\n",
              "..............................................................................................\n",
              "..............................................................................................\n",
              "h277|   |        |        |        |        |...|        |        |        |        |        |\n",
              "h723|   |        |        |        |        |...|        |        |        |        |        |\n",
              "h9  |   |        |        |        |        |...|        |        |        |        |        |\n",
              "h359|   |        |        |        |        |...|        |        |        |        |        |\n",
              "h707|   |        |        |        |        |...|        |        |        |        |        |\n",
              "h763|   |        |        |        |        |...|        |        |        |        |        |\n",
              "h192|   |        |        |        |        |...|        |        |        |        |        |\n",
              "h629|   |        |        |        |        |...|        |        |        |        |        |\n",
              "h559|   |        |        |        |        |...|        |        |        |        |        |\n",
              "h684|   |        |        |        |        |...|        |        |        |        |        |"
            ]
          },
          "metadata": {},
          "execution_count": 10
        }
      ],
      "source": [
        "%%time \n",
        "K_train = FormalContext.from_pandas(X_train)\n",
        "K_train"
      ]
    },
    {
      "cell_type": "code",
      "source": [
        "%%time \n",
        "\n",
        "L = ConceptLattice.from_context(K_train,algo='Sofia', is_monotone=True)\n",
        "len(L)"
      ],
      "metadata": {
        "colab": {
          "base_uri": "https://localhost:8080/"
        },
        "id": "CM7b7ky__aBe",
        "outputId": "17f8dad3-175b-4750-bb3e-0870c3e0c460"
      },
      "execution_count": 11,
      "outputs": [
        {
          "output_type": "stream",
          "name": "stdout",
          "text": [
            "CPU times: user 1min 41s, sys: 713 ms, total: 1min 42s\n",
            "Wall time: 1min 46s\n"
          ]
        },
        {
          "output_type": "execute_result",
          "data": {
            "text/plain": [
              "100"
            ]
          },
          "metadata": {},
          "execution_count": 11
        }
      ]
    },
    {
      "cell_type": "markdown",
      "metadata": {
        "id": "s_zBXHBwfjrd"
      },
      "source": [
        "Compute F1 score for each formal concept  (assuming that an object is predicted True if it is in the extent of the concept)"
      ]
    },
    {
      "cell_type": "code",
      "execution_count": 12,
      "metadata": {
        "id": "VbzpKYW1fjrd"
      },
      "outputs": [],
      "source": [
        "for c in L:\n",
        "    y_preds = np.zeros(K_train.n_objects)\n",
        "    y_preds[list(c.extent_i)] = 1\n",
        "    c.measures['f1_score'] = f1_score(y_train, y_preds)\n",
        "    c.measures['recall_score'] = recall_score(y_train, y_preds)"
      ]
    },
    {
      "cell_type": "markdown",
      "metadata": {
        "id": "E1NIDC-zfjre"
      },
      "source": [
        "Select indices of the best concepts from the lattice"
      ]
    },
    {
      "cell_type": "code",
      "execution_count": 17,
      "metadata": {
        "id": "Aw1QohZUfjre"
      },
      "outputs": [],
      "source": [
        "n_concepts = 4\n",
        "best_concepts = list(L.measures['f1_score'].argsort()[::-1][:n_concepts])\n",
        "\n",
        "assert len({g_i for c in L[best_concepts] for g_i in c.extent_i})==K_train.n_objects, \"Selected concepts do not cover all train objects\""
      ]
    },
    {
      "cell_type": "markdown",
      "metadata": {
        "id": "mn8HId16fjre"
      },
      "source": [
        "Construct neural network based on concept lattice"
      ]
    },
    {
      "cell_type": "code",
      "execution_count": 18,
      "metadata": {
        "id": "VA62zv8Dfjre"
      },
      "outputs": [],
      "source": [
        "cn = nl.ConceptNetwork.from_lattice(L, best_concepts, sorted(set(y_train)))"
      ]
    },
    {
      "cell_type": "markdown",
      "metadata": {
        "id": "vl51CH3dfjre"
      },
      "source": [
        "Setup visuzalier for the architecture"
      ]
    },
    {
      "cell_type": "code",
      "execution_count": 19,
      "metadata": {
        "id": "KhK1G_AWfjrf"
      },
      "outputs": [],
      "source": [
        "vis = LineVizNx(node_label_font_size=14, node_label_func=lambda el_i, P: nl.neuron_label_func(el_i, P, set(cn.attributes))+'\\n\\n')"
      ]
    },
    {
      "cell_type": "code",
      "source": [
        "set(X_train.columns)"
      ],
      "metadata": {
        "colab": {
          "base_uri": "https://localhost:8080/"
        },
        "id": "EkoY7bbT0DDM",
        "outputId": "98fbd970-483d-4343-c3ea-fe2674f5cac5"
      },
      "execution_count": 22,
      "outputs": [
        {
          "output_type": "execute_result",
          "data": {
            "text/plain": [
              "{'B(18;23]',\n",
              " 'B(23;28]',\n",
              " 'B(28;33]',\n",
              " 'B(33;38]',\n",
              " 'B(38;43]',\n",
              " 'B(43;48]',\n",
              " 'B(48;53]',\n",
              " 'B(53;58]',\n",
              " 'B(58;63]',\n",
              " 'B(63;68]',\n",
              " 'B0',\n",
              " 'G(104;112]',\n",
              " 'G(112;120]',\n",
              " 'G(120;128]',\n",
              " 'G(128;136]',\n",
              " 'G(136;144]',\n",
              " 'G(144;152]',\n",
              " 'G(152;160]',\n",
              " 'G(160;168]',\n",
              " 'G(168;176]',\n",
              " 'G(176;184]',\n",
              " 'G(184;192]',\n",
              " 'G(192;200]',\n",
              " 'G(40;48]',\n",
              " 'G(48;56]',\n",
              " 'G(56;64]',\n",
              " 'G(64;72]',\n",
              " 'G(72;80]',\n",
              " 'G(80;88]',\n",
              " 'G(88;96]',\n",
              " 'G(96;104]',\n",
              " 'G=0'}"
            ]
          },
          "metadata": {},
          "execution_count": 22
        }
      ]
    },
    {
      "cell_type": "code",
      "execution_count": 23,
      "metadata": {
        "id": "9iOK6cnDfjrf"
      },
      "outputs": [],
      "source": [
        "descr = {'G(192;200]'}\n",
        "\n",
        "traced = cn.trace_description(descr, include_targets=False)"
      ]
    },
    {
      "cell_type": "code",
      "execution_count": 32,
      "metadata": {
        "id": "aVRH5aaYfjrg",
        "outputId": "806659b6-c44a-494b-a553-a1451b254e93",
        "colab": {
          "base_uri": "https://localhost:8080/",
          "height": 344
        }
      },
      "outputs": [
        {
          "output_type": "display_data",
          "data": {
            "text/plain": [
              "<Figure size 1440x360 with 1 Axes>"
            ],
            "image/png": "[encoded data removed]"
          },
          "metadata": {}
        }
      ],
      "source": [
        "fig, ax = plt.subplots(figsize=(20,5))\n",
        "\n",
        "vis.draw_poset(\n",
        "    cn.poset, ax=ax, \n",
        "    flg_node_indices=False,\n",
        "    node_label_func=lambda el_i, P: nl.neuron_label_func(el_i, P, set(cn.attributes), only_new_attrs=True)+'\\n\\n',\n",
        "    node_color=['darkblue' if el_i in traced else 'lightgray' for el_i in range(len(cn.poset))\n",
        "                ],\n",
        "               node_size=100,\n",
        "               node_label_font_size=6\n",
        ")\n",
        "plt.title(f'NN based on '+str(n_concepts)+' best concepts from monotone concept lattice', loc='left', x=0.05, size=24)\n",
        "\n",
        "plt.text(max(vis.mover.posx), min(vis.mover.posy)-0.3, f'*Blue neurons are the ones activated by description {descr}', fontsize=14, ha='right', color='dimgray')\n",
        "\n",
        "plt.subplots_adjust()\n",
        "plt.tight_layout()\n",
        "plt.savefig('nn_g_and_b.png')\n",
        "plt.show()"
      ]
    },
    {
      "cell_type": "markdown",
      "metadata": {
        "id": "M8ylXp2rfjrg"
      },
      "source": [
        "Now fit the network"
      ]
    },
    {
      "cell_type": "code",
      "source": [
        "cn = nl.ConceptNetwork.from_lattice(L, best_concepts, sorted(set(y_train)))"
      ],
      "metadata": {
        "id": "EbuzrRGoHyln"
      },
      "execution_count": 51,
      "outputs": []
    },
    {
      "cell_type": "markdown",
      "source": [
        "The best number of epochs is 5000 (see below)"
      ],
      "metadata": {
        "id": "Cnij3ia4JIBT"
      }
    },
    {
      "cell_type": "code",
      "execution_count": 52,
      "metadata": {
        "id": "wi9o0w-cfjrg"
      },
      "outputs": [],
      "source": [
        "cn.fit(X_train, y_train,  n_epochs = 5000)"
      ]
    },
    {
      "cell_type": "markdown",
      "metadata": {
        "id": "gGTSCwuIfjrg"
      },
      "source": [
        "To obtain the prediction"
      ]
    },
    {
      "cell_type": "code",
      "execution_count": 53,
      "metadata": {
        "id": "MvIC_n86fjrh",
        "colab": {
          "base_uri": "https://localhost:8080/"
        },
        "outputId": "c82084dd-f5f3-4a56-98a9-1c6df2eeeb34"
      },
      "outputs": [
        {
          "output_type": "stream",
          "name": "stdout",
          "text": [
            "Class prediction [1 0 0 1 0 0 1 1 0 0]\n",
            "Class prediction with probabilities [[0.02098216 0.97901785]\n",
            " [0.9987338  0.00126624]\n",
            " [0.9987338  0.00126624]\n",
            " [0.49998528 0.5000147 ]\n",
            " [0.9987338  0.00126624]\n",
            " [0.9987338  0.00126624]\n",
            " [0.02098216 0.97901785]\n",
            " [0.02098216 0.97901785]\n",
            " [0.9987338  0.00126624]\n",
            " [0.9987338  0.00126624]]\n",
            "True class [ True False False  True False False  True  True False False]\n"
          ]
        }
      ],
      "source": [
        "y_pred = cn.predict(X_test).numpy()\n",
        "print('Class prediction', y_pred[:10])\n",
        "y_proba = cn.predict_proba(X_test).detach().numpy()\n",
        "print('Class prediction with probabilities', y_proba[:10])\n",
        "print('True class', y_test.values[:10])"
      ]
    },
    {
      "cell_type": "markdown",
      "source": [
        "Check our metrics"
      ],
      "metadata": {
        "id": "yqCCV1Vp3jp7"
      }
    },
    {
      "cell_type": "code",
      "source": [
        "#5000 (run few times)\n",
        "print('Recall score:', recall_score(y_test.values.astype('int'), y_pred))\n",
        "print('F1     score:', f1_score(y_test.values.astype('int'), y_pred))\n",
        "print('Accuracy score:', accuracy_score(y_test.values.astype('int'), y_pred))"
      ],
      "metadata": {
        "colab": {
          "base_uri": "https://localhost:8080/"
        },
        "id": "oj0GS77dIY6q",
        "outputId": "50ad62a3-c378-4a97-e613-e1abb258228a"
      },
      "execution_count": 54,
      "outputs": [
        {
          "output_type": "stream",
          "name": "stdout",
          "text": [
            "Recall score: 0.5\n",
            "F1     score: 0.5522388059701493\n",
            "Accuracy score: 0.7402597402597403\n"
          ]
        }
      ]
    },
    {
      "cell_type": "code",
      "source": [
        "print(classification_report(y_test.values.astype('int'), y_pred))"
      ],
      "metadata": {
        "colab": {
          "base_uri": "https://localhost:8080/"
        },
        "id": "NlUH26zoJUSw",
        "outputId": "7e7d7bc1-f401-4510-91ff-23710556d53e"
      },
      "execution_count": 56,
      "outputs": [
        {
          "output_type": "stream",
          "name": "stdout",
          "text": [
            "              precision    recall  f1-score   support\n",
            "\n",
            "           0       0.78      0.85      0.82       157\n",
            "           1       0.62      0.50      0.55        74\n",
            "\n",
            "    accuracy                           0.74       231\n",
            "   macro avg       0.70      0.68      0.68       231\n",
            "weighted avg       0.73      0.74      0.73       231\n",
            "\n"
          ]
        }
      ]
    },
    {
      "cell_type": "markdown",
      "source": [
        "Here you can see results with different number of epochs "
      ],
      "metadata": {
        "id": "QXPeeG2VIpZ9"
      }
    },
    {
      "cell_type": "code",
      "source": [
        "#10 000\n",
        "cn = nl.ConceptNetwork.from_lattice(L, best_concepts, sorted(set(y_train)))\n",
        "cn.fit(X_train, y_train,  n_epochs = 10000)\n",
        "print('Recall score:', recall_score(y_test.values.astype('int'), y_pred))\n",
        "print('F1     score:', f1_score(y_test.values.astype('int'), y_pred))\n",
        "print('Accuracy score:', accuracy_score(y_test.values.astype('int'), y_pred))"
      ],
      "metadata": {
        "colab": {
          "base_uri": "https://localhost:8080/"
        },
        "id": "gb-_okRkICOt",
        "outputId": "74f7e14c-963e-455e-be69-c354b921a3e8"
      },
      "execution_count": 50,
      "outputs": [
        {
          "output_type": "stream",
          "name": "stdout",
          "text": [
            "Recall score: 0.0\n",
            "F1     score: 0.0\n",
            "Accuracy score: 0.6796536796536796\n"
          ]
        }
      ]
    },
    {
      "cell_type": "code",
      "source": [
        "#5000\n",
        "cn = nl.ConceptNetwork.from_lattice(L, best_concepts, sorted(set(y_train)))\n",
        "cn.fit(X_train, y_train,  n_epochs = 5000)\n",
        "print('Recall score:', recall_score(y_test.values.astype('int'), y_pred))\n",
        "print('F1     score:', f1_score(y_test.values.astype('int'), y_pred))\n",
        "print('Accuracy score:', accuracy_score(y_test.values.astype('int'), y_pred))"
      ],
      "metadata": {
        "colab": {
          "base_uri": "https://localhost:8080/"
        },
        "id": "cv_f-aulH58-",
        "outputId": "33742db7-5ed2-4eea-97b0-abe1ca284f59"
      },
      "execution_count": 46,
      "outputs": [
        {
          "output_type": "stream",
          "name": "stdout",
          "text": [
            "Recall score: 0.4864864864864865\n",
            "F1     score: 0.5496183206106869\n",
            "Accuracy score: 0.7445887445887446\n"
          ]
        }
      ]
    },
    {
      "cell_type": "code",
      "source": [
        "#2000\n",
        "cn = nl.ConceptNetwork.from_lattice(L, best_concepts, sorted(set(y_train)))\n",
        "cn.fit(X_train, y_train,  n_epochs = 2000)\n",
        "print('Recall score:', recall_score(y_test.values.astype('int'), y_pred))\n",
        "print('F1     score:', f1_score(y_test.values.astype('int'), y_pred))"
      ],
      "metadata": {
        "colab": {
          "base_uri": "https://localhost:8080/"
        },
        "id": "pO4J9_PM2oBR",
        "outputId": "581ccb81-8612-4cd5-adef-54cbe9a0f54c"
      },
      "execution_count": 35,
      "outputs": [
        {
          "output_type": "stream",
          "name": "stdout",
          "text": [
            "Recall score: 0.44594594594594594\n",
            "F1     score: 0.5196850393700787\n"
          ]
        }
      ]
    },
    {
      "cell_type": "code",
      "source": [
        "print('Accuracy score:', accuracy_score(y_test.values.astype('int'), y_pred))"
      ],
      "metadata": {
        "colab": {
          "base_uri": "https://localhost:8080/"
        },
        "id": "BZ0D8Hsa3NLr",
        "outputId": "917cbde3-ed6e-427d-8b17-3fe855657862"
      },
      "execution_count": 36,
      "outputs": [
        {
          "output_type": "stream",
          "name": "stdout",
          "text": [
            "Accuracy score: 0.7359307359307359\n"
          ]
        }
      ]
    },
    {
      "cell_type": "markdown",
      "source": [
        "So, the best results were with 5000 epochs"
      ],
      "metadata": {
        "id": "zsN5D91mIOQg"
      }
    },
    {
      "cell_type": "code",
      "execution_count": 57,
      "metadata": {
        "id": "H5eDFOWWfjrh"
      },
      "outputs": [],
      "source": [
        "edge_weights = cn.edge_weights_from_network()"
      ]
    },
    {
      "cell_type": "code",
      "execution_count": 58,
      "metadata": {
        "id": "5h2rcRr7fjrh",
        "outputId": "42bc7776-51db-4f3c-b1f2-dd822ec60a5d",
        "colab": {
          "base_uri": "https://localhost:8080/",
          "height": 369
        }
      },
      "outputs": [
        {
          "output_type": "display_data",
          "data": {
            "text/plain": [
              "<Figure size 1080x360 with 1 Axes>"
            ],
            "image/png": "[encoded data removed]"
          },
          "metadata": {}
        }
      ],
      "source": [
        "import networkx as nx\n",
        "\n",
        "fig, ax = plt.subplots(figsize=(15,5))\n",
        "\n",
        "vis.draw_poset(\n",
        "    cn.poset, ax=ax, \n",
        "    flg_node_indices=False,\n",
        "    node_label_func=lambda el_i, P: nl.neuron_label_func(el_i, P, set(cn.attributes), only_new_attrs=True)+'\\n\\n',\n",
        "    edge_color=[edge_weights[edge] for edge in cn.poset.to_networkx().edges],\n",
        "    edge_cmap=plt.cm.RdBu,\n",
        "    \n",
        "               node_size=100,\n",
        "               node_label_font_size=6\n",
        ")\n",
        "nx.draw_networkx_edge_labels(cn.poset.to_networkx(), vis.mover.pos, {k: f\"{v:.1f}\" for k,v in edge_weights.items()}, label_pos=0.7)\n",
        "\n",
        "plt.title('Neural network with fitted edge weights', size=24, x=0.05, loc='left')\n",
        "plt.tight_layout()\n",
        "plt.subplots_adjust()\n",
        "plt.savefig('fitted_g_and_b.png')\n",
        "plt.show()"
      ]
    }
  ],
  "metadata": {
    "colab": {
      "provenance": []
    },
    "kernelspec": {
      "display_name": "Python 3",
      "language": "python",
      "name": "python3"
    },
    "language_info": {
      "codemirror_mode": {
        "name": "ipython",
        "version": 3
      },
      "file_extension": ".py",
      "mimetype": "text/x-python",
      "name": "python",
      "nbconvert_exporter": "python",
      "pygments_lexer": "ipython3",
      "version": "3.8.3"
    }
  },
  "nbformat": 4,
  "nbformat_minor": 0
}