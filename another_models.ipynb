{
  "cells": [
    {
      "cell_type": "code",
      "execution_count": null,
      "metadata": {
        "id": "c-ljCMXxfjrW"
      },
      "outputs": [],
      "source": [
        "import numpy as np\n",
        "import pandas as pd\n",
        "from sklearn.model_selection import train_test_split\n",
        "from sklearn.metrics import f1_score, recall_score, accuracy_score, classification_report\n",
        "\n",
        "#from fcapy.context import FormalContext\n",
        "#from fcapy.lattice import ConceptLattice\n",
        "\n",
        "#from fcapy.visualizer import LineVizNx\n",
        "import matplotlib.pyplot as plt\n",
        "\n",
        "plt.rcParams['figure.facecolor'] = (1,1,1,1)\n",
        "\n",
        "#import neural_lib as nl"
      ]
    },
    {
      "cell_type": "markdown",
      "metadata": {
        "id": "JXfExtmTfjrZ"
      },
      "source": [
        "# Pipeline"
      ]
    },
    {
      "cell_type": "code",
      "source": [
        "df = pd.read_csv('/content/diabetes.csv')\n",
        "print(df.shape)\n",
        "df.sample()"
      ],
      "metadata": {
        "colab": {
          "base_uri": "https://localhost:8080/",
          "height": 99
        },
        "id": "4_TMy5tww26Z",
        "outputId": "932bfb6a-eae5-433a-b319-26258475f53f"
      },
      "execution_count": null,
      "outputs": [
        {
          "output_type": "stream",
          "name": "stdout",
          "text": [
            "(768, 9)\n"
          ]
        },
        {
          "output_type": "execute_result",
          "data": {
            "text/plain": [
              "     Pregnancies  Glucose  BloodPressure  SkinThickness  Insulin   BMI  \\\n",
              "505           10       75             82              0        0  33.3   \n",
              "\n",
              "     DiabetesPedigreeFunction  Age  Outcome  \n",
              "505                     0.263   38        0  "
            ],
            "text/html": [
              "\n",
              "  <div id=\"df-b2d78200-40db-4251-a56e-d849b8a43422\">\n",
              "    <div class=\"colab-df-container\">\n",
              "      <div>\n",
              "<style scoped>\n",
              "    .dataframe tbody tr th:only-of-type {\n",
              "        vertical-align: middle;\n",
              "    }\n",
              "\n",
              "    .dataframe tbody tr th {\n",
              "        vertical-align: top;\n",
              "    }\n",
              "\n",
              "    .dataframe thead th {\n",
              "        text-align: right;\n",
              "    }\n",
              "</style>\n",
              "<table border=\"1\" class=\"dataframe\">\n",
              "  <thead>\n",
              "    <tr style=\"text-align: right;\">\n",
              "      <th></th>\n",
              "      <th>Pregnancies</th>\n",
              "      <th>Glucose</th>\n",
              "      <th>BloodPressure</th>\n",
              "      <th>SkinThickness</th>\n",
              "      <th>Insulin</th>\n",
              "      <th>BMI</th>\n",
              "      <th>DiabetesPedigreeFunction</th>\n",
              "      <th>Age</th>\n",
              "      <th>Outcome</th>\n",
              "    </tr>\n",
              "  </thead>\n",
              "  <tbody>\n",
              "    <tr>\n",
              "      <th>505</th>\n",
              "      <td>10</td>\n",
              "      <td>75</td>\n",
              "      <td>82</td>\n",
              "      <td>0</td>\n",
              "      <td>0</td>\n",
              "      <td>33.3</td>\n",
              "      <td>0.263</td>\n",
              "      <td>38</td>\n",
              "      <td>0</td>\n",
              "    </tr>\n",
              "  </tbody>\n",
              "</table>\n",
              "</div>\n",
              "      <button class=\"colab-df-convert\" onclick=\"convertToInteractive('df-b2d78200-40db-4251-a56e-d849b8a43422')\"\n",
              "              title=\"Convert this dataframe to an interactive table.\"\n",
              "              style=\"display:none;\">\n",
              "        \n",
              "  <svg xmlns=\"http://www.w3.org/2000/svg\" height=\"24px\"viewBox=\"0 0 24 24\"\n",
              "       width=\"24px\">\n",
              "    <path d=\"M0 0h24v24H0V0z\" fill=\"none\"/>\n",
              "    <path d=\"M18.56 5.44l.94 2.06.94-2.06 2.06-.94-2.06-.94-.94-2.06-.94 2.06-2.06.94zm-11 1L8.5 8.5l.94-2.06 2.06-.94-2.06-.94L8.5 2.5l-.94 2.06-2.06.94zm10 10l.94 2.06.94-2.06 2.06-.94-2.06-.94-.94-2.06-.94 2.06-2.06.94z\"/><path d=\"M17.41 7.96l-1.37-1.37c-.4-.4-.92-.59-1.43-.59-.52 0-1.04.2-1.43.59L10.3 9.45l-7.72 7.72c-.78.78-.78 2.05 0 2.83L4 21.41c.39.39.9.59 1.41.59.51 0 1.02-.2 1.41-.59l7.78-7.78 2.81-2.81c.8-.78.8-2.07 0-2.86zM5.41 20L4 18.59l7.72-7.72 1.47 1.35L5.41 20z\"/>\n",
              "  </svg>\n",
              "      </button>\n",
              "      \n",
              "  <style>\n",
              "    .colab-df-container {\n",
              "      display:flex;\n",
              "      flex-wrap:wrap;\n",
              "      gap: 12px;\n",
              "    }\n",
              "\n",
              "    .colab-df-convert {\n",
              "      background-color: #E8F0FE;\n",
              "      border: none;\n",
              "      border-radius: 50%;\n",
              "      cursor: pointer;\n",
              "      display: none;\n",
              "      fill: #1967D2;\n",
              "      height: 32px;\n",
              "      padding: 0 0 0 0;\n",
              "      width: 32px;\n",
              "    }\n",
              "\n",
              "    .colab-df-convert:hover {\n",
              "      background-color: #E2EBFA;\n",
              "      box-shadow: 0px 1px 2px rgba(60, 64, 67, 0.3), 0px 1px 3px 1px rgba(60, 64, 67, 0.15);\n",
              "      fill: #174EA6;\n",
              "    }\n",
              "\n",
              "    [theme=dark] .colab-df-convert {\n",
              "      background-color: #3B4455;\n",
              "      fill: #D2E3FC;\n",
              "    }\n",
              "\n",
              "    [theme=dark] .colab-df-convert:hover {\n",
              "      background-color: #434B5C;\n",
              "      box-shadow: 0px 1px 3px 1px rgba(0, 0, 0, 0.15);\n",
              "      filter: drop-shadow(0px 1px 2px rgba(0, 0, 0, 0.3));\n",
              "      fill: #FFFFFF;\n",
              "    }\n",
              "  </style>\n",
              "\n",
              "      <script>\n",
              "        const buttonEl =\n",
              "          document.querySelector('#df-b2d78200-40db-4251-a56e-d849b8a43422 button.colab-df-convert');\n",
              "        buttonEl.style.display =\n",
              "          google.colab.kernel.accessAllowed ? 'block' : 'none';\n",
              "\n",
              "        async function convertToInteractive(key) {\n",
              "          const element = document.querySelector('#df-b2d78200-40db-4251-a56e-d849b8a43422');\n",
              "          const dataTable =\n",
              "            await google.colab.kernel.invokeFunction('convertToInteractive',\n",
              "                                                     [key], {});\n",
              "          if (!dataTable) return;\n",
              "\n",
              "          const docLinkHtml = 'Like what you see? Visit the ' +\n",
              "            '<a target=\"_blank\" href=https://colab.research.google.com/notebooks/data_table.ipynb>data table notebook</a>'\n",
              "            + ' to learn more about interactive tables.';\n",
              "          element.innerHTML = '';\n",
              "          dataTable['output_type'] = 'display_data';\n",
              "          await google.colab.output.renderOutput(dataTable, element);\n",
              "          const docLink = document.createElement('div');\n",
              "          docLink.innerHTML = docLinkHtml;\n",
              "          element.appendChild(docLink);\n",
              "        }\n",
              "      </script>\n",
              "    </div>\n",
              "  </div>\n",
              "  "
            ]
          },
          "metadata": {},
          "execution_count": 2
        }
      ]
    },
    {
      "cell_type": "markdown",
      "metadata": {
        "id": "TEKqUkbKfjra"
      },
      "source": [
        "# Step 0. Binarize the data"
      ]
    },
    {
      "cell_type": "code",
      "source": [
        "df_bin = pd.DataFrame()\n",
        "#1\n",
        "df_bin['Pregnancies<6'] = df['Pregnancies'] < 6\n",
        "df_bin['Pregnancies>=6'] = df['Pregnancies'] >= 6\n",
        "#2\n",
        "df_bin['Glucose>=150'] = df['Glucose'] >= 150\n",
        "df_bin['Glucose<150'] = df['Glucose'] < 150\n",
        "#3\n",
        "df_bin['BMI>40'] = df['BMI'] > 40\n",
        "df_bin['BMI<40'] = df['BMI'] < 40\n",
        "#7\n",
        "df_bin['DiabetesPedigreeFunction>=1'] = df['DiabetesPedigreeFunction'] >= 1\n",
        "df_bin['DiabetesPedigreeFunction<1'] = df['DiabetesPedigreeFunction'] < 1\n",
        "#8\n",
        "df_bin['Age>=60'] = df['Age'] >= 60\n",
        "df_bin['Age>=40<60'] = (df['Age'] < 60) & (df['Age'] >= 40)\n",
        "df_bin['Age<40'] = df['Age'] < 40\n",
        "\n",
        "df_bin['Outcome'] = df['Outcome'] == 1\n"
      ],
      "metadata": {
        "id": "oWjBUPStZP6A"
      },
      "execution_count": null,
      "outputs": []
    },
    {
      "cell_type": "code",
      "source": [
        "y_feat = 'Outcome'\n",
        "df_train, df_test = train_test_split(df_bin, train_size=0.7, random_state=0)\n",
        "\n",
        "X_train, y_train = df_train.drop(y_feat, axis=1), df_train[y_feat]\n",
        "X_test, y_test = df_test.drop(y_feat, axis=1), df_test[y_feat]\n",
        "X_train, y_train,  X_test, y_test = X_train.to_numpy(dtype='int'), y_train.to_numpy(dtype='int'), X_test.to_numpy(dtype='int'), y_test.to_numpy(dtype='int')\n",
        "X_train[:10]\n"
      ],
      "metadata": {
        "colab": {
          "base_uri": "https://localhost:8080/"
        },
        "id": "q5tDCBMoZfYG",
        "outputId": "02edae77-2906-4877-fe7d-50d7e29c99dd"
      },
      "execution_count": null,
      "outputs": [
        {
          "output_type": "execute_result",
          "data": {
            "text/plain": [
              "array([[1, 0, 1, 0, 1, 0, 0, 1, 0, 0, 1],\n",
              "       [1, 0, 0, 1, 0, 1, 0, 1, 0, 0, 1],\n",
              "       [1, 0, 0, 1, 0, 1, 0, 1, 0, 0, 1],\n",
              "       [1, 0, 0, 1, 0, 1, 0, 1, 1, 0, 0],\n",
              "       [1, 0, 0, 1, 0, 1, 0, 1, 0, 1, 0],\n",
              "       [1, 0, 0, 1, 0, 1, 0, 1, 0, 1, 0],\n",
              "       [0, 1, 1, 0, 1, 0, 0, 1, 0, 0, 1],\n",
              "       [1, 0, 0, 1, 0, 1, 0, 1, 0, 1, 0],\n",
              "       [0, 1, 1, 0, 1, 0, 0, 1, 0, 1, 0],\n",
              "       [0, 1, 0, 1, 0, 1, 0, 1, 0, 1, 0]])"
            ]
          },
          "metadata": {},
          "execution_count": 40
        }
      ]
    },
    {
      "cell_type": "markdown",
      "source": [
        "Default tree"
      ],
      "metadata": {
        "id": "plDNpu-7cAFR"
      }
    },
    {
      "cell_type": "code",
      "source": [
        "from sklearn.tree import DecisionTreeClassifier\n",
        "clf = DecisionTreeClassifier(random_state=0)\n",
        "clf.fit(X_train, y_train)\n",
        "y_pred = clf.predict(X_test)\n",
        "print('Recall score:', recall_score(y_test, y_pred))\n",
        "print('F1     score:', f1_score(y_test, y_pred))\n",
        "print('Accuracy score:', accuracy_score(y_test, y_pred))"
      ],
      "metadata": {
        "colab": {
          "base_uri": "https://localhost:8080/"
        },
        "id": "ckmMedTxZcOG",
        "outputId": "2873240b-9657-4206-f5a9-dfd0eb92a159"
      },
      "execution_count": null,
      "outputs": [
        {
          "output_type": "stream",
          "name": "stdout",
          "text": [
            "Recall score: 0.47297297297297297\n",
            "F1     score: 0.5\n",
            "Accuracy score: 0.696969696969697\n"
          ]
        }
      ]
    },
    {
      "cell_type": "code",
      "source": [
        "clf.get_depth()"
      ],
      "metadata": {
        "colab": {
          "base_uri": "https://localhost:8080/"
        },
        "id": "6oWiqA7WaxiQ",
        "outputId": "10773944-e4ba-48ea-f484-379c05ebd919"
      },
      "execution_count": null,
      "outputs": [
        {
          "output_type": "execute_result",
          "data": {
            "text/plain": [
              "6"
            ]
          },
          "metadata": {},
          "execution_count": 43
        }
      ]
    },
    {
      "cell_type": "markdown",
      "source": [
        "GridsearchCV with trees"
      ],
      "metadata": {
        "id": "3XUk7cPicB5p"
      }
    },
    {
      "cell_type": "markdown",
      "source": [
        "(scoring with recall)"
      ],
      "metadata": {
        "id": "04qrG8yKddqm"
      }
    },
    {
      "cell_type": "code",
      "source": [
        "from sklearn.model_selection import GridSearchCV\n",
        "parameters = {'criterion': ['gini', 'entropy', 'log_loss'],\n",
        "              'max_depth' : [1,2,3,4,5,6],\n",
        "              'min_samples_split': [2,5, 8, 10],\n",
        "              'min_samples_leaf': [1,2,3,5, 7, 10]}\n",
        "tree = DecisionTreeClassifier(random_state=0)\n",
        "clf = GridSearchCV(tree, parameters, verbose = 3, scoring = 'recall')\n",
        "clf.fit(X_train, y_train)"
      ],
      "metadata": {
        "id": "u5PoUtJmaPGv"
      },
      "execution_count": null,
      "outputs": []
    },
    {
      "cell_type": "code",
      "source": [
        "y_pred = clf.predict(X_test)\n",
        "print('Recall score:', recall_score(y_test, y_pred))\n",
        "print('F1     score:', f1_score(y_test, y_pred))\n",
        "print('Accuracy score:', accuracy_score(y_test, y_pred))"
      ],
      "metadata": {
        "colab": {
          "base_uri": "https://localhost:8080/"
        },
        "id": "F425eJ2GbX87",
        "outputId": "a7ebbeb7-4903-44b9-ecf8-ee5de76e9d7c"
      },
      "execution_count": null,
      "outputs": [
        {
          "output_type": "stream",
          "name": "stdout",
          "text": [
            "Recall score: 0.5405405405405406\n",
            "F1     score: 0.5298013245033113\n",
            "Accuracy score: 0.6926406926406926\n"
          ]
        }
      ]
    },
    {
      "cell_type": "code",
      "source": [],
      "metadata": {
        "id": "9gngi8UacmsW"
      },
      "execution_count": null,
      "outputs": []
    },
    {
      "cell_type": "markdown",
      "source": [
        "(scoring with f1)"
      ],
      "metadata": {
        "id": "2N6EfekvdgIg"
      }
    },
    {
      "cell_type": "code",
      "source": [
        "\n",
        "tree = DecisionTreeClassifier(random_state=0)\n",
        "clf = GridSearchCV(tree, parameters, verbose = 3, scoring = 'f1')\n",
        "clf.fit(X_train, y_train)"
      ],
      "metadata": {
        "id": "IvH3ae-bcm1p"
      },
      "execution_count": null,
      "outputs": []
    },
    {
      "cell_type": "code",
      "source": [
        "y_pred = clf.predict(X_test)\n",
        "print('Recall score:', recall_score(y_test, y_pred))\n",
        "print('F1     score:', f1_score(y_test, y_pred))\n",
        "print('Accuracy score:', accuracy_score(y_test, y_pred))"
      ],
      "metadata": {
        "colab": {
          "base_uri": "https://localhost:8080/"
        },
        "id": "xjrVswVJc2c5",
        "outputId": "ec152826-05c4-416f-9e8c-583ae5eb6017"
      },
      "execution_count": null,
      "outputs": [
        {
          "output_type": "stream",
          "name": "stdout",
          "text": [
            "Recall score: 0.5\n",
            "F1     score: 0.5211267605633804\n",
            "Accuracy score: 0.7056277056277056\n"
          ]
        }
      ]
    },
    {
      "cell_type": "markdown",
      "source": [
        "Simple Gradient boosting"
      ],
      "metadata": {
        "id": "_knrPFWJdqw9"
      }
    },
    {
      "cell_type": "code",
      "source": [
        "from sklearn.ensemble import GradientBoostingClassifier\n",
        "\n",
        "clf = GradientBoostingClassifier(random_state=0)\n",
        "clf.fit(X_train, y_train)\n",
        "y_pred = clf.predict(X_test)\n",
        "print('Recall score:', recall_score(y_test, y_pred))\n",
        "print('F1     score:', f1_score(y_test, y_pred))\n",
        "print('Accuracy score:', accuracy_score(y_test, y_pred))"
      ],
      "metadata": {
        "colab": {
          "base_uri": "https://localhost:8080/"
        },
        "id": "TqXh0LOwdiTj",
        "outputId": "115d718d-cc4a-4f08-ef6d-8ab3698a3d5c"
      },
      "execution_count": null,
      "outputs": [
        {
          "output_type": "stream",
          "name": "stdout",
          "text": [
            "Recall score: 0.5135135135135135\n",
            "F1     score: 0.5277777777777778\n",
            "Accuracy score: 0.7056277056277056\n"
          ]
        }
      ]
    },
    {
      "cell_type": "markdown",
      "source": [
        "GridSearchCV with gradient Boosting"
      ],
      "metadata": {
        "id": "UTdHN3sqds7M"
      }
    },
    {
      "cell_type": "markdown",
      "source": [
        "(scoring with recall)"
      ],
      "metadata": {
        "id": "fGJpz4YjelEg"
      }
    },
    {
      "cell_type": "code",
      "source": [
        "parameters = {'learning_rate': [1,0.1, 0.01, 0.001],\n",
        "              'n_estimators':[10, 50, 100, 200],\n",
        "              'subsample' : [1.0, 0.75, 0.5, 0.25]}\n",
        "gb = GradientBoostingClassifier(random_state=0)\n",
        "clf = GridSearchCV(gb, parameters, verbose = 3, scoring = 'recall')\n",
        "clf.fit(X_train, y_train)"
      ],
      "metadata": {
        "id": "ikfa4dZhd2aZ"
      },
      "execution_count": null,
      "outputs": []
    },
    {
      "cell_type": "code",
      "source": [
        "y_pred = clf.predict(X_test)\n",
        "print('Recall score:', recall_score(y_test, y_pred))\n",
        "print('F1     score:', f1_score(y_test, y_pred))\n",
        "print('Accuracy score:', accuracy_score(y_test, y_pred))"
      ],
      "metadata": {
        "colab": {
          "base_uri": "https://localhost:8080/"
        },
        "id": "gxQiaR6pecLq",
        "outputId": "80b1154b-483e-46d2-f61c-7020ca44fe5b"
      },
      "execution_count": null,
      "outputs": [
        {
          "output_type": "stream",
          "name": "stdout",
          "text": [
            "Recall score: 0.5135135135135135\n",
            "F1     score: 0.5277777777777778\n",
            "Accuracy score: 0.7056277056277056\n"
          ]
        }
      ]
    },
    {
      "cell_type": "markdown",
      "source": [
        "(scoring with f1)"
      ],
      "metadata": {
        "id": "iAUaV-r8emss"
      }
    },
    {
      "cell_type": "code",
      "source": [
        "gb = GradientBoostingClassifier(random_state=0)\n",
        "clf = GridSearchCV(gb, parameters, verbose = 3, scoring = 'f1')\n",
        "clf.fit(X_train, y_train)\n"
      ],
      "metadata": {
        "id": "e1KEw537egT2"
      },
      "execution_count": null,
      "outputs": []
    },
    {
      "cell_type": "code",
      "source": [
        "y_pred = clf.predict(X_test)\n",
        "print('Recall score:', recall_score(y_test, y_pred))\n",
        "print('F1     score:', f1_score(y_test, y_pred))\n",
        "print('Accuracy score:', accuracy_score(y_test, y_pred))"
      ],
      "metadata": {
        "colab": {
          "base_uri": "https://localhost:8080/"
        },
        "id": "o4UcmzzqeuRr",
        "outputId": "7104dc3f-2da3-4be1-b582-cd3720ed263e"
      },
      "execution_count": null,
      "outputs": [
        {
          "output_type": "stream",
          "name": "stdout",
          "text": [
            "Recall score: 0.4594594594594595\n",
            "F1     score: 0.5230769230769231\n",
            "Accuracy score: 0.7316017316017316\n"
          ]
        }
      ]
    }
  ],
  "metadata": {
    "colab": {
      "provenance": []
    },
    "kernelspec": {
      "display_name": "Python 3",
      "language": "python",
      "name": "python3"
    },
    "language_info": {
      "codemirror_mode": {
        "name": "ipython",
        "version": 3
      },
      "file_extension": ".py",
      "mimetype": "text/x-python",
      "name": "python",
      "nbconvert_exporter": "python",
      "pygments_lexer": "ipython3",
      "version": "3.8.3"
    }
  },
  "nbformat": 4,
  "nbformat_minor": 0
}